{
  "nbformat": 4,
  "nbformat_minor": 0,
  "metadata": {
    "colab": {
      "provenance": [],
      "authorship_tag": "ABX9TyOsXYkqdVshPvcd6ENVn+rN",
      "include_colab_link": true
    },
    "kernelspec": {
      "name": "python3",
      "display_name": "Python 3"
    },
    "language_info": {
      "name": "python"
    }
  },
  "cells": [
    {
      "cell_type": "markdown",
      "metadata": {
        "id": "view-in-github",
        "colab_type": "text"
      },
      "source": [
        "<a href=\"https://colab.research.google.com/github/Iveynganga/Movie-Recommender-System-Capstone-Project/blob/main/MovieRecommenderProject.ipynb\" target=\"_parent\"><img src=\"https://colab.research.google.com/assets/colab-badge.svg\" alt=\"Open In Colab\"/></a>"
      ]
    },
    {
      "cell_type": "markdown",
      "source": [
        "# 1: Fetch Genre List from TMDB\n",
        "\n",
        "This step fetches the list of genres from the TMDB API and creates a mapping from genre IDs to genre names. This mapping will be used later to convert genre IDs into genre names."
      ],
      "metadata": {
        "id": "f1RBKC95Vpd7"
      }
    },
    {
      "cell_type": "code",
      "execution_count": 2,
      "metadata": {
        "colab": {
          "base_uri": "https://localhost:8080/"
        },
        "id": "4FF2MwewSfps",
        "outputId": "7885765f-b25f-45b4-87a3-96d3ec35d28b"
      },
      "outputs": [
        {
          "output_type": "stream",
          "name": "stdout",
          "text": [
            "{28: 'Action', 12: 'Adventure', 16: 'Animation', 35: 'Comedy', 80: 'Crime', 99: 'Documentary', 18: 'Drama', 10751: 'Family', 14: 'Fantasy', 36: 'History', 27: 'Horror', 10402: 'Music', 9648: 'Mystery', 10749: 'Romance', 878: 'Science Fiction', 10770: 'TV Movie', 53: 'Thriller', 10752: 'War', 37: 'Western'}\n"
          ]
        }
      ],
      "source": [
        "import requests\n",
        "\n",
        "def get_genres(api_key):\n",
        "    url = f\"https://api.themoviedb.org/3/genre/movie/list?api_key={api_key}&language=en-US\"\n",
        "    response = requests.get(url)\n",
        "    if response.status_code == 200:\n",
        "        genres = response.json()['genres']\n",
        "        genre_map = {genre['id']: genre['name'] for genre in genres}\n",
        "        return genre_map\n",
        "    else:\n",
        "        return None\n",
        "\n",
        "# Example usage\n",
        "api_key = '01d2a425252c60a07d9035e905a50397'\n",
        "genre_map = get_genres(api_key)\n",
        "print(genre_map)\n"
      ]
    },
    {
      "cell_type": "markdown",
      "source": [
        "# 2: Fetch Movie Details from TMDB using IMDb ID\n",
        "\n",
        "This step fetches movie details from TMDB using an IMDb ID which is a unique identifier for movies in the IMDb database, which we can use to query TMDB. This includes information like the movie's title, genres, rating, and popularity."
      ],
      "metadata": {
        "id": "_7gS32hgWARn"
      }
    },
    {
      "cell_type": "code",
      "source": [
        "def get_movie_details(imdb_id, api_key):\n",
        "    url = f\"https://api.themoviedb.org/3/find/{imdb_id}?api_key={api_key}&external_source=imdb_id\"\n",
        "    response = requests.get(url)\n",
        "    if response.status_code == 200:\n",
        "        return response.json()\n",
        "    else:\n",
        "        return None\n",
        "\n",
        "# Example usage\n",
        "imdb_id = 'tt0111161'  # Example IMDb ID for The Shawshank Redemption\n",
        "movie_details = get_movie_details(imdb_id, api_key)\n",
        "print(movie_details)\n"
      ],
      "metadata": {
        "colab": {
          "base_uri": "https://localhost:8080/"
        },
        "id": "-PAoDCBeTD3Y",
        "outputId": "e7f4c8c6-47a2-4a41-ee1d-bd9c5e9a0458"
      },
      "execution_count": 3,
      "outputs": [
        {
          "output_type": "stream",
          "name": "stdout",
          "text": [
            "{'movie_results': [{'backdrop_path': '/avedvodAZUcwqevBfm8p4G2NziQ.jpg', 'id': 278, 'title': 'The Shawshank Redemption', 'original_title': 'The Shawshank Redemption', 'overview': 'Imprisoned in the 1940s for the double murder of his wife and her lover, upstanding banker Andy Dufresne begins a new life at the Shawshank prison, where he puts his accounting skills to work for an amoral warden. During his long stretch in prison, Dufresne comes to be admired by the other inmates -- including an older prisoner named Red -- for his integrity and unquenchable sense of hope.', 'poster_path': '/9cqNxx0GxF0bflZmeSMuL5tnGzr.jpg', 'media_type': 'movie', 'adult': False, 'original_language': 'en', 'genre_ids': [18, 80], 'popularity': 227.544, 'release_date': '1994-09-23', 'video': False, 'vote_average': 8.705, 'vote_count': 26561}], 'person_results': [], 'tv_results': [], 'tv_episode_results': [], 'tv_season_results': []}\n"
          ]
        }
      ]
    },
    {
      "cell_type": "markdown",
      "source": [
        "# 3: Preprocess Movie Data\n",
        "\n",
        "In this step, we preprocess the movie data to extract relevant information and convert genre IDs to genre names using the genre_map created in Step 1.\n",
        "This involves converting the raw movie data (with genre IDs) into a more readable format (with genre names) and creating a DataFrame for further analysis."
      ],
      "metadata": {
        "id": "XtadywnnWWto"
      }
    },
    {
      "cell_type": "code",
      "source": [
        "import pandas as pd\n",
        "\n",
        "def preprocess_movie_data(movie_details, genre_map):\n",
        "    if 'movie_results' not in movie_details:\n",
        "        print(\"Key 'movie_results' not found in movie_details\")\n",
        "        return pd.DataFrame()\n",
        "\n",
        "    movies = []\n",
        "    for result in movie_details['movie_results']:\n",
        "        movie = {\n",
        "            'id': result.get('id'),\n",
        "            'title': result.get('title'),\n",
        "            'genres': [genre_map.get(genre_id) for genre_id in result.get('genre_ids', [])],\n",
        "            'rating': result.get('vote_average'),\n",
        "            'popularity': result.get('popularity')\n",
        "        }\n",
        "        movies.append(movie)\n",
        "    return pd.DataFrame(movies)\n",
        "\n",
        "# Example usage\n",
        "movie_data = preprocess_movie_data(movie_details, genre_map)\n",
        "print(movie_data.head())\n"
      ],
      "metadata": {
        "colab": {
          "base_uri": "https://localhost:8080/"
        },
        "id": "TGn64v1GUaYD",
        "outputId": "178ddb91-efa7-4301-ded4-191e6bd1fb9d"
      },
      "execution_count": 4,
      "outputs": [
        {
          "output_type": "stream",
          "name": "stdout",
          "text": [
            "    id                     title          genres  rating  popularity\n",
            "0  278  The Shawshank Redemption  [Drama, Crime]   8.705     227.544\n"
          ]
        }
      ]
    },
    {
      "cell_type": "markdown",
      "source": [
        "# 4: Fetch Multiple Movies and Create User-Movie Matrix"
      ],
      "metadata": {
        "id": "xvprBY9qWuUR"
      }
    },
    {
      "cell_type": "code",
      "source": [
        "def fetch_movies(api_key, genre_map, num_movies=10):\n",
        "    movies = []\n",
        "    for page in range(1, num_movies // 20 + 2):\n",
        "        url = f\"https://api.themoviedb.org/3/movie/popular?api_key={api_key}&language=en-US&page={page}\"\n",
        "        response = requests.get(url)\n",
        "        if response.status_code == 200:\n",
        "            results = response.json()['results']\n",
        "            for result in results:\n",
        "                movie = {\n",
        "                    'id': result.get('id'),\n",
        "                    'title': result.get('title'),\n",
        "                    'genres': [genre_map.get(genre_id) for genre_id in result.get('genre_ids', [])],\n",
        "                    'rating': result.get('vote_average'),\n",
        "                    'popularity': result.get('popularity')\n",
        "                }\n",
        "                movies.append(movie)\n",
        "                if len(movies) >= num_movies:\n",
        "                    break\n",
        "        if len(movies) >= num_movies:\n",
        "            break\n",
        "    return pd.DataFrame(movies)\n",
        "\n",
        "# Example usage\n",
        "num_movies = 10  # Number of movies to fetch\n",
        "movie_data = fetch_movies(api_key, genre_map, num_movies)\n",
        "print(movie_data.head())\n"
      ],
      "metadata": {
        "colab": {
          "base_uri": "https://localhost:8080/"
        },
        "id": "CV0H7KoFUsn1",
        "outputId": "07d11224-3a86-4322-9c99-7be4b2f812d7"
      },
      "execution_count": 5,
      "outputs": [
        {
          "output_type": "stream",
          "name": "stdout",
          "text": [
            "        id                   title                                  genres  \\\n",
            "0   533535    Deadpool & Wolverine       [Action, Comedy, Science Fiction]   \n",
            "1   762441  A Quiet Place: Day One     [Horror, Science Fiction, Thriller]   \n",
            "2   573435   Bad Boys: Ride or Die       [Action, Crime, Thriller, Comedy]   \n",
            "3  1022789            Inside Out 2  [Animation, Family, Adventure, Comedy]   \n",
            "4   519182         Despicable Me 4     [Animation, Family, Comedy, Action]   \n",
            "\n",
            "   rating  popularity  \n",
            "0   7.900   23022.328  \n",
            "1   7.006    6197.201  \n",
            "2   7.656    5462.371  \n",
            "3   7.632    4449.143  \n",
            "4   7.192    3557.455  \n"
          ]
        }
      ]
    },
    {
      "cell_type": "markdown",
      "source": [
        "# 5: Create User-Movie Matrix\n",
        "\n",
        "In this step, we will create a user-movie matrix, which is essential for collaborative filtering. This matrix represents user ratings for different movies, with users as rows and movies as columns."
      ],
      "metadata": {
        "id": "moHtZQL8W7zm"
      }
    },
    {
      "cell_type": "code",
      "source": [
        "def create_user_movie_matrix(movie_data):\n",
        "    if 'id' not in movie_data.columns:\n",
        "        print(\"Column 'id' not found in movie_data\")\n",
        "        return pd.DataFrame()\n",
        "\n",
        "    # data for user ratings\n",
        "    user_ratings = {\n",
        "        'user_id': [1, 2, 1, 3, 2, 3],\n",
        "        'movie_id': [movie_data['id'].iloc[0], movie_data['id'].iloc[1], movie_data['id'].iloc[2], movie_data['id'].iloc[3], movie_data['id'].iloc[4], movie_data['id'].iloc[5]],\n",
        "        'rating': [5, 4, 3, 2, 3, 4]\n",
        "    }\n",
        "    ratings_df = pd.DataFrame(user_ratings)\n",
        "\n",
        "    #Create the user-movie matrix using the pivot table method\n",
        "    user_movie_matrix = ratings_df.pivot_table(index='user_id', columns='movie_id', values='rating').fillna(0)\n",
        "    return user_movie_matrix\n",
        "\n",
        "user_movie_matrix = create_user_movie_matrix(movie_data)\n",
        "print(user_movie_matrix.head())\n"
      ],
      "metadata": {
        "colab": {
          "base_uri": "https://localhost:8080/"
        },
        "id": "LV-Qzz-3U6lV",
        "outputId": "16d86f9e-06e0-46bf-8ff3-9cd94c5deeee"
      },
      "execution_count": 6,
      "outputs": [
        {
          "output_type": "stream",
          "name": "stdout",
          "text": [
            "movie_id  519182   533535   573435   762441   799583   1022789\n",
            "user_id                                                       \n",
            "1             0.0      5.0      3.0      0.0      0.0      0.0\n",
            "2             3.0      0.0      0.0      4.0      0.0      0.0\n",
            "3             0.0      0.0      0.0      0.0      4.0      2.0\n"
          ]
        }
      ]
    },
    {
      "cell_type": "markdown",
      "source": [
        "# 6: Calculate Similarity\n",
        "\n",
        "This step calculates the similarity between users using the user-movie matrix. We will use cosine similarity, a common metric for calculating similarity in collaborative filtering systems."
      ],
      "metadata": {
        "id": "xdPLJxqLcdwM"
      }
    },
    {
      "cell_type": "code",
      "source": [
        "from sklearn.metrics.pairwise import cosine_similarity\n",
        "\n",
        "def calculate_similarity(user_movie_matrix):\n",
        "    cosine_sim = cosine_similarity(user_movie_matrix)\n",
        "    return cosine_sim\n",
        "\n",
        "cosine_sim = calculate_similarity(user_movie_matrix)\n",
        "print(cosine_sim)\n"
      ],
      "metadata": {
        "colab": {
          "base_uri": "https://localhost:8080/"
        },
        "id": "ZoriN-TAVKiw",
        "outputId": "5da25c55-f278-4c1e-91c9-95e3c1c50d03"
      },
      "execution_count": 7,
      "outputs": [
        {
          "output_type": "stream",
          "name": "stdout",
          "text": [
            "[[1. 0. 0.]\n",
            " [0. 1. 0.]\n",
            " [0. 0. 1.]]\n"
          ]
        }
      ]
    },
    {
      "cell_type": "markdown",
      "source": [
        "# 7: Recommend Movies"
      ],
      "metadata": {
        "id": "AnhOIvc8cni9"
      }
    },
    {
      "cell_type": "code",
      "source": [
        "def recommend_movies(user_id, user_movie_matrix, cosine_sim, n=10):\n",
        "    if user_id not in user_movie_matrix.index:\n",
        "        print(f\"User ID {user_id} not found in user_movie_matrix\")\n",
        "        return pd.Series()\n",
        "\n",
        "    user_index = user_movie_matrix.index.get_loc(user_id)\n",
        "    sim_scores = list(enumerate(cosine_sim[user_index]))\n",
        "    sim_scores = sorted(sim_scores, key=lambda x: x[1], reverse=True)\n",
        "    sim_scores = sim_scores[1:n+1]  # Get top n similar users\n",
        "    movie_indices = [i[0] for i in sim_scores]\n",
        "    similar_users = user_movie_matrix.iloc[movie_indices]\n",
        "    movie_recommendations = similar_users.mean(axis=0).sort_values(ascending=False)\n",
        "    return movie_recommendations.head(n)\n",
        "\n",
        "# Example usage\n",
        "user_id = 1  # Example user ID\n",
        "recommendations = recommend_movies(user_id, user_movie_matrix, cosine_sim)\n",
        "print(recommendations)\n"
      ],
      "metadata": {
        "id": "BBTvTWwg0K2D",
        "colab": {
          "base_uri": "https://localhost:8080/"
        },
        "outputId": "9e2d1845-33f1-4f1f-e53f-4a6a52643c6d"
      },
      "execution_count": 8,
      "outputs": [
        {
          "output_type": "stream",
          "name": "stdout",
          "text": [
            "movie_id\n",
            "762441     2.0\n",
            "799583     2.0\n",
            "519182     1.5\n",
            "1022789    1.0\n",
            "533535     0.0\n",
            "573435     0.0\n",
            "dtype: float64\n"
          ]
        }
      ]
    }
  ]
}