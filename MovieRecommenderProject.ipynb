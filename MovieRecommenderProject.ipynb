{
  "nbformat": 4,
  "nbformat_minor": 0,
  "metadata": {
    "colab": {
      "provenance": [],
      "authorship_tag": "ABX9TyO11RK3qqnsvYWUSti3LJGl",
      "include_colab_link": true
    },
    "kernelspec": {
      "name": "python3",
      "display_name": "Python 3"
    },
    "language_info": {
      "name": "python"
    }
  },
  "cells": [
    {
      "cell_type": "markdown",
      "metadata": {
        "id": "view-in-github",
        "colab_type": "text"
      },
      "source": [
        "<a href=\"https://colab.research.google.com/github/Iveynganga/Movie-Recommender-System-Capstone-Project/blob/main/MovieRecommenderProject.ipynb\" target=\"_parent\"><img src=\"https://colab.research.google.com/assets/colab-badge.svg\" alt=\"Open In Colab\"/></a>"
      ]
    },
    {
      "cell_type": "markdown",
      "source": [
        "# MOVIE RECOMMENDER SYSTEM\n",
        "With an ever-growing library of movies available on various platforms, users often struggle to find content that matches their tastes. This project addresses the challenge by creating a personalized movie recommendation system. The goal is to enhance user experience by suggesting movies that they are likely to find appealing based on their past viewing history and the preferences of similar users."
      ],
      "metadata": {
        "id": "Z-711tSn-4KO"
      }
    },
    {
      "cell_type": "markdown",
      "source": [
        "# Data Sourcing\n",
        "The data used in this project is from a movie recommendation system dataset from Kaggle which is in Excel file format. It has 4803 entries and 23 columns.\n",
        "\n",
        "Link: https://www.kaggle.com/code/ibtesama/getting-started-with-a-movie-recommendation-system/input?select=tmdb_5000_movies.csv"
      ],
      "metadata": {
        "id": "WuuYVmciPv5p"
      }
    },
    {
      "cell_type": "markdown",
      "source": [
        "**Loading of data and understanding the dataset**\n",
        "\n",
        "The first step is loading the data and understanding the dataset which involves reviewing the dataset's columns, types, and summary statistics to gain insights into the data."
      ],
      "metadata": {
        "id": "QnzdehrwFWg1"
      }
    },
    {
      "cell_type": "code",
      "source": [
        "import numpy as np\n",
        "import pandas as pd"
      ],
      "metadata": {
        "id": "I7IXtTsIofUb"
      },
      "execution_count": 1,
      "outputs": []
    },
    {
      "cell_type": "code",
      "source": [
        "credits_data = pd.read_csv('/content/tmdb_5000_credits.csv')\n",
        "movies_data = pd.read_csv('/content/tmdb_5000_movies.csv')"
      ],
      "metadata": {
        "id": "_KPp0W0Mod9t",
        "collapsed": true
      },
      "execution_count": null,
      "outputs": []
    },
    {
      "cell_type": "code",
      "source": [
        "credits_data.head()"
      ],
      "metadata": {
        "id": "rqClQKXCsScD"
      },
      "execution_count": null,
      "outputs": []
    },
    {
      "cell_type": "code",
      "source": [
        "movies_data.head()"
      ],
      "metadata": {
        "id": "8ODDsR7EwlVs"
      },
      "execution_count": null,
      "outputs": []
    },
    {
      "cell_type": "code",
      "source": [
        "movies = movies_data.merge(credits_data,on=\"title\")\n",
        "\n",
        "movies.shape"
      ],
      "metadata": {
        "id": "YksfzRAqPJEV"
      },
      "execution_count": null,
      "outputs": []
    },
    {
      "cell_type": "code",
      "source": [
        "import pandas as pd\n",
        "\n",
        "# Load the movies and credits datasets\n",
        "movies_data = pd.read_csv('/content/tmdb_5000_movies.csv')\n",
        "credits_data = pd.read_csv('/content/tmdb_5000_credits.csv')\n",
        "\n",
        "# Merge the datasets on 'movie_id' to add 'cast' and 'crew' to movies_data\n",
        "movies_with_credits = pd.merge(movies_data, credits_data[['movie_id', 'cast', 'crew']], left_on='id', right_on='movie_id', how='left')\n",
        "\n",
        "# Check the first few rows of the updated dataset\n",
        "movies_with_credits.head()\n",
        "\n",
        "# Save the updated dataset to a CSV file\n",
        "movies_with_credits.to_csv('movies_with_credits.csv', index=False)\n"
      ],
      "metadata": {
        "id": "7sAdOmMHJB0S",
        "collapsed": true
      },
      "execution_count": null,
      "outputs": []
    },
    {
      "cell_type": "code",
      "source": [
        "movies_with_credits.info()"
      ],
      "metadata": {
        "colab": {
          "base_uri": "https://localhost:8080/"
        },
        "id": "FBEwrZCLUJq9",
        "outputId": "6e6fdf0b-8b35-4689-c512-423dc01c77f4"
      },
      "execution_count": 7,
      "outputs": [
        {
          "output_type": "stream",
          "name": "stdout",
          "text": [
            "<class 'pandas.core.frame.DataFrame'>\n",
            "RangeIndex: 4803 entries, 0 to 4802\n",
            "Data columns (total 23 columns):\n",
            " #   Column                Non-Null Count  Dtype  \n",
            "---  ------                --------------  -----  \n",
            " 0   budget                4803 non-null   int64  \n",
            " 1   genres                4803 non-null   object \n",
            " 2   homepage              1712 non-null   object \n",
            " 3   id                    4803 non-null   object \n",
            " 4   keywords              4803 non-null   object \n",
            " 5   original_language     4803 non-null   object \n",
            " 6   original_title        4803 non-null   object \n",
            " 7   overview              4800 non-null   object \n",
            " 8   popularity            4803 non-null   float64\n",
            " 9   production_companies  4803 non-null   object \n",
            " 10  production_countries  4803 non-null   object \n",
            " 11  release_date          4802 non-null   object \n",
            " 12  revenue               4803 non-null   int64  \n",
            " 13  runtime               4801 non-null   float64\n",
            " 14  spoken_languages      4803 non-null   object \n",
            " 15  status                4803 non-null   object \n",
            " 16  tagline               3959 non-null   object \n",
            " 17  title                 4803 non-null   object \n",
            " 18  vote_average          4803 non-null   float64\n",
            " 19  vote_count            4803 non-null   int64  \n",
            " 20  movie_id              3276 non-null   object \n",
            " 21  cast                  3276 non-null   object \n",
            " 22  crew                  3276 non-null   object \n",
            "dtypes: float64(3), int64(3), object(17)\n",
            "memory usage: 863.2+ KB\n"
          ]
        }
      ]
    },
    {
      "cell_type": "markdown",
      "source": [
        "# Key attributes\n",
        "\n",
        "These are the most important features or columns that provide valuable information for analysis and model building\n"
      ],
      "metadata": {
        "id": "4D2d6GTbSniQ"
      }
    },
    {
      "cell_type": "code",
      "source": [
        "movies_with_credits = movies_with_credits[['budget','genres','id','popularity', 'production_companies','release_date','revenue','overview','vote_average', 'title','cast','crew']]\n",
        "\n",
        "movies_with_credits"
      ],
      "metadata": {
        "colab": {
          "base_uri": "https://localhost:8080/",
          "height": 1000
        },
        "id": "5Q6DfxxwSt7V",
        "outputId": "d377c0cf-261b-4349-abf6-3beb97b9ad4d"
      },
      "execution_count": 8,
      "outputs": [
        {
          "output_type": "execute_result",
          "data": {
            "text/plain": [
              "         budget                                             genres      id  \\\n",
              "0     237000000  [{\"id\": 28, \"name\": \"Action\"}, {\"id\": 12, \"nam...   19995   \n",
              "1     300000000  [{\"id\": 12, \"name\": \"Adventure\"}, {\"id\": 14, \"...     285   \n",
              "2     245000000  [{\"id\": 28, \"name\": \"Action\"}, {\"id\": 12, \"nam...  206647   \n",
              "3     250000000  [{\"id\": 28, \"name\": \"Action\"}, {\"id\": 80, \"nam...   49026   \n",
              "4     260000000  [{\"id\": 28, \"name\": \"Action\"}, {\"id\": 12, \"nam...   49529   \n",
              "...         ...                                                ...     ...   \n",
              "4798     220000  [{\"id\": 28, \"name\": \"Action\"}, {\"id\": 80, \"nam...    9367   \n",
              "4799       9000  [{\"id\": 35, \"name\": \"Comedy\"}, {\"id\": 10749, \"...   72766   \n",
              "4800          0  [{\"id\": 35, \"name\": \"Comedy\"}, {\"id\": 18, \"nam...  231617   \n",
              "4801          0                                                 []  126186   \n",
              "4802          0                [{\"id\": 99, \"name\": \"Documentary\"}]   25975   \n",
              "\n",
              "      popularity                               production_companies  \\\n",
              "0     150.437577  [{\"name\": \"Ingenious Film Partners\", \"id\": 289...   \n",
              "1     139.082615  [{\"name\": \"Walt Disney Pictures\", \"id\": 2}, {\"...   \n",
              "2     107.376788  [{\"name\": \"Columbia Pictures\", \"id\": 5}, {\"nam...   \n",
              "3     112.312950  [{\"name\": \"Legendary Pictures\", \"id\": 923}, {\"...   \n",
              "4      43.926995        [{\"name\": \"Walt Disney Pictures\", \"id\": 2}]   \n",
              "...          ...                                                ...   \n",
              "4798   14.269792           [{\"name\": \"Columbia Pictures\", \"id\": 5}]   \n",
              "4799    0.642552                                                 []   \n",
              "4800    1.444476  [{\"name\": \"Front Street Pictures\", \"id\": 3958}...   \n",
              "4801    0.857008                                                 []   \n",
              "4802    1.929883  [{\"name\": \"rusty bear entertainment\", \"id\": 87...   \n",
              "\n",
              "     release_date     revenue  \\\n",
              "0      12/10/2009  2787965087   \n",
              "1       5/19/2007   961000000   \n",
              "2      10/26/2015   880674609   \n",
              "3       7/16/2012  1084939099   \n",
              "4        3/7/2012   284139100   \n",
              "...           ...         ...   \n",
              "4798     9/4/1992     2040920   \n",
              "4799   12/26/2011           0   \n",
              "4800   10/13/2013           0   \n",
              "4801     5/3/2012           0   \n",
              "4802     8/5/2005           0   \n",
              "\n",
              "                                               overview  vote_average  \\\n",
              "0     In the 22nd century, a paraplegic Marine is di...           7.2   \n",
              "1     Captain Barbossa, long believed to be dead, ha...           6.9   \n",
              "2     A cryptic message from Bond’s past sends him o...           6.3   \n",
              "3     Following the death of District Attorney Harve...           7.6   \n",
              "4     John Carter is a war-weary, former military ca...           6.1   \n",
              "...                                                 ...           ...   \n",
              "4798  El Mariachi just wants to play his guitar and ...           6.6   \n",
              "4799  A newlywed couple's honeymoon is upended by th...           5.9   \n",
              "4800  \"Signed, Sealed, Delivered\" introduces a dedic...           7.0   \n",
              "4801  When ambitious New York attorney Sam is sent t...           5.7   \n",
              "4802  Ever since the second grade when he first saw ...           6.3   \n",
              "\n",
              "                                         title  \\\n",
              "0                                       Avatar   \n",
              "1     Pirates of the Caribbean: At World's End   \n",
              "2                                      Spectre   \n",
              "3                        The Dark Knight Rises   \n",
              "4                                  John Carter   \n",
              "...                                        ...   \n",
              "4798                               El Mariachi   \n",
              "4799                                 Newlyweds   \n",
              "4800                 Signed, Sealed, Delivered   \n",
              "4801                          Shanghai Calling   \n",
              "4802                         My Date with Drew   \n",
              "\n",
              "                                                   cast  \\\n",
              "0                                                   NaN   \n",
              "1                                                   NaN   \n",
              "2                                                   NaN   \n",
              "3                                                   NaN   \n",
              "4                                                   NaN   \n",
              "...                                                 ...   \n",
              "4798  [{\"cast_id\": 1, \"character\": \"El Mariachi\", \"c...   \n",
              "4799  [{\"cast_id\": 1, \"character\": \"Buzzy\", \"credit_...   \n",
              "4800  [{\"cast_id\": 8, \"character\": \"Oliver O\\u2019To...   \n",
              "4801  [{\"cast_id\": 3, \"character\": \"Sam\", \"credit_id...   \n",
              "4802  [{\"cast_id\": 3, \"character\": \"Herself\", \"credi...   \n",
              "\n",
              "                                                   crew  \n",
              "0                                                   NaN  \n",
              "1                                                   NaN  \n",
              "2                                                   NaN  \n",
              "3                                                   NaN  \n",
              "4                                                   NaN  \n",
              "...                                                 ...  \n",
              "4798  [{\"credit_id\": \"52fe44eec3a36847f80b280b\", \"de...  \n",
              "4799  [{\"credit_id\": \"52fe487dc3a368484e0fb013\", \"de...  \n",
              "4800  [{\"credit_id\": \"52fe4df3c3a36847f8275ecf\", \"de...  \n",
              "4801  [{\"credit_id\": \"52fe4ad9c3a368484e16a36b\", \"de...  \n",
              "4802  [{\"credit_id\": \"58ce021b9251415a390165d9\", \"de...  \n",
              "\n",
              "[4803 rows x 12 columns]"
            ],
            "text/html": [
              "\n",
              "  <div id=\"df-db9dc971-1066-4f48-bc04-1c76dd4c7ad3\" class=\"colab-df-container\">\n",
              "    <div>\n",
              "<style scoped>\n",
              "    .dataframe tbody tr th:only-of-type {\n",
              "        vertical-align: middle;\n",
              "    }\n",
              "\n",
              "    .dataframe tbody tr th {\n",
              "        vertical-align: top;\n",
              "    }\n",
              "\n",
              "    .dataframe thead th {\n",
              "        text-align: right;\n",
              "    }\n",
              "</style>\n",
              "<table border=\"1\" class=\"dataframe\">\n",
              "  <thead>\n",
              "    <tr style=\"text-align: right;\">\n",
              "      <th></th>\n",
              "      <th>budget</th>\n",
              "      <th>genres</th>\n",
              "      <th>id</th>\n",
              "      <th>popularity</th>\n",
              "      <th>production_companies</th>\n",
              "      <th>release_date</th>\n",
              "      <th>revenue</th>\n",
              "      <th>overview</th>\n",
              "      <th>vote_average</th>\n",
              "      <th>title</th>\n",
              "      <th>cast</th>\n",
              "      <th>crew</th>\n",
              "    </tr>\n",
              "  </thead>\n",
              "  <tbody>\n",
              "    <tr>\n",
              "      <th>0</th>\n",
              "      <td>237000000</td>\n",
              "      <td>[{\"id\": 28, \"name\": \"Action\"}, {\"id\": 12, \"nam...</td>\n",
              "      <td>19995</td>\n",
              "      <td>150.437577</td>\n",
              "      <td>[{\"name\": \"Ingenious Film Partners\", \"id\": 289...</td>\n",
              "      <td>12/10/2009</td>\n",
              "      <td>2787965087</td>\n",
              "      <td>In the 22nd century, a paraplegic Marine is di...</td>\n",
              "      <td>7.2</td>\n",
              "      <td>Avatar</td>\n",
              "      <td>NaN</td>\n",
              "      <td>NaN</td>\n",
              "    </tr>\n",
              "    <tr>\n",
              "      <th>1</th>\n",
              "      <td>300000000</td>\n",
              "      <td>[{\"id\": 12, \"name\": \"Adventure\"}, {\"id\": 14, \"...</td>\n",
              "      <td>285</td>\n",
              "      <td>139.082615</td>\n",
              "      <td>[{\"name\": \"Walt Disney Pictures\", \"id\": 2}, {\"...</td>\n",
              "      <td>5/19/2007</td>\n",
              "      <td>961000000</td>\n",
              "      <td>Captain Barbossa, long believed to be dead, ha...</td>\n",
              "      <td>6.9</td>\n",
              "      <td>Pirates of the Caribbean: At World's End</td>\n",
              "      <td>NaN</td>\n",
              "      <td>NaN</td>\n",
              "    </tr>\n",
              "    <tr>\n",
              "      <th>2</th>\n",
              "      <td>245000000</td>\n",
              "      <td>[{\"id\": 28, \"name\": \"Action\"}, {\"id\": 12, \"nam...</td>\n",
              "      <td>206647</td>\n",
              "      <td>107.376788</td>\n",
              "      <td>[{\"name\": \"Columbia Pictures\", \"id\": 5}, {\"nam...</td>\n",
              "      <td>10/26/2015</td>\n",
              "      <td>880674609</td>\n",
              "      <td>A cryptic message from Bond’s past sends him o...</td>\n",
              "      <td>6.3</td>\n",
              "      <td>Spectre</td>\n",
              "      <td>NaN</td>\n",
              "      <td>NaN</td>\n",
              "    </tr>\n",
              "    <tr>\n",
              "      <th>3</th>\n",
              "      <td>250000000</td>\n",
              "      <td>[{\"id\": 28, \"name\": \"Action\"}, {\"id\": 80, \"nam...</td>\n",
              "      <td>49026</td>\n",
              "      <td>112.312950</td>\n",
              "      <td>[{\"name\": \"Legendary Pictures\", \"id\": 923}, {\"...</td>\n",
              "      <td>7/16/2012</td>\n",
              "      <td>1084939099</td>\n",
              "      <td>Following the death of District Attorney Harve...</td>\n",
              "      <td>7.6</td>\n",
              "      <td>The Dark Knight Rises</td>\n",
              "      <td>NaN</td>\n",
              "      <td>NaN</td>\n",
              "    </tr>\n",
              "    <tr>\n",
              "      <th>4</th>\n",
              "      <td>260000000</td>\n",
              "      <td>[{\"id\": 28, \"name\": \"Action\"}, {\"id\": 12, \"nam...</td>\n",
              "      <td>49529</td>\n",
              "      <td>43.926995</td>\n",
              "      <td>[{\"name\": \"Walt Disney Pictures\", \"id\": 2}]</td>\n",
              "      <td>3/7/2012</td>\n",
              "      <td>284139100</td>\n",
              "      <td>John Carter is a war-weary, former military ca...</td>\n",
              "      <td>6.1</td>\n",
              "      <td>John Carter</td>\n",
              "      <td>NaN</td>\n",
              "      <td>NaN</td>\n",
              "    </tr>\n",
              "    <tr>\n",
              "      <th>...</th>\n",
              "      <td>...</td>\n",
              "      <td>...</td>\n",
              "      <td>...</td>\n",
              "      <td>...</td>\n",
              "      <td>...</td>\n",
              "      <td>...</td>\n",
              "      <td>...</td>\n",
              "      <td>...</td>\n",
              "      <td>...</td>\n",
              "      <td>...</td>\n",
              "      <td>...</td>\n",
              "      <td>...</td>\n",
              "    </tr>\n",
              "    <tr>\n",
              "      <th>4798</th>\n",
              "      <td>220000</td>\n",
              "      <td>[{\"id\": 28, \"name\": \"Action\"}, {\"id\": 80, \"nam...</td>\n",
              "      <td>9367</td>\n",
              "      <td>14.269792</td>\n",
              "      <td>[{\"name\": \"Columbia Pictures\", \"id\": 5}]</td>\n",
              "      <td>9/4/1992</td>\n",
              "      <td>2040920</td>\n",
              "      <td>El Mariachi just wants to play his guitar and ...</td>\n",
              "      <td>6.6</td>\n",
              "      <td>El Mariachi</td>\n",
              "      <td>[{\"cast_id\": 1, \"character\": \"El Mariachi\", \"c...</td>\n",
              "      <td>[{\"credit_id\": \"52fe44eec3a36847f80b280b\", \"de...</td>\n",
              "    </tr>\n",
              "    <tr>\n",
              "      <th>4799</th>\n",
              "      <td>9000</td>\n",
              "      <td>[{\"id\": 35, \"name\": \"Comedy\"}, {\"id\": 10749, \"...</td>\n",
              "      <td>72766</td>\n",
              "      <td>0.642552</td>\n",
              "      <td>[]</td>\n",
              "      <td>12/26/2011</td>\n",
              "      <td>0</td>\n",
              "      <td>A newlywed couple's honeymoon is upended by th...</td>\n",
              "      <td>5.9</td>\n",
              "      <td>Newlyweds</td>\n",
              "      <td>[{\"cast_id\": 1, \"character\": \"Buzzy\", \"credit_...</td>\n",
              "      <td>[{\"credit_id\": \"52fe487dc3a368484e0fb013\", \"de...</td>\n",
              "    </tr>\n",
              "    <tr>\n",
              "      <th>4800</th>\n",
              "      <td>0</td>\n",
              "      <td>[{\"id\": 35, \"name\": \"Comedy\"}, {\"id\": 18, \"nam...</td>\n",
              "      <td>231617</td>\n",
              "      <td>1.444476</td>\n",
              "      <td>[{\"name\": \"Front Street Pictures\", \"id\": 3958}...</td>\n",
              "      <td>10/13/2013</td>\n",
              "      <td>0</td>\n",
              "      <td>\"Signed, Sealed, Delivered\" introduces a dedic...</td>\n",
              "      <td>7.0</td>\n",
              "      <td>Signed, Sealed, Delivered</td>\n",
              "      <td>[{\"cast_id\": 8, \"character\": \"Oliver O\\u2019To...</td>\n",
              "      <td>[{\"credit_id\": \"52fe4df3c3a36847f8275ecf\", \"de...</td>\n",
              "    </tr>\n",
              "    <tr>\n",
              "      <th>4801</th>\n",
              "      <td>0</td>\n",
              "      <td>[]</td>\n",
              "      <td>126186</td>\n",
              "      <td>0.857008</td>\n",
              "      <td>[]</td>\n",
              "      <td>5/3/2012</td>\n",
              "      <td>0</td>\n",
              "      <td>When ambitious New York attorney Sam is sent t...</td>\n",
              "      <td>5.7</td>\n",
              "      <td>Shanghai Calling</td>\n",
              "      <td>[{\"cast_id\": 3, \"character\": \"Sam\", \"credit_id...</td>\n",
              "      <td>[{\"credit_id\": \"52fe4ad9c3a368484e16a36b\", \"de...</td>\n",
              "    </tr>\n",
              "    <tr>\n",
              "      <th>4802</th>\n",
              "      <td>0</td>\n",
              "      <td>[{\"id\": 99, \"name\": \"Documentary\"}]</td>\n",
              "      <td>25975</td>\n",
              "      <td>1.929883</td>\n",
              "      <td>[{\"name\": \"rusty bear entertainment\", \"id\": 87...</td>\n",
              "      <td>8/5/2005</td>\n",
              "      <td>0</td>\n",
              "      <td>Ever since the second grade when he first saw ...</td>\n",
              "      <td>6.3</td>\n",
              "      <td>My Date with Drew</td>\n",
              "      <td>[{\"cast_id\": 3, \"character\": \"Herself\", \"credi...</td>\n",
              "      <td>[{\"credit_id\": \"58ce021b9251415a390165d9\", \"de...</td>\n",
              "    </tr>\n",
              "  </tbody>\n",
              "</table>\n",
              "<p>4803 rows × 12 columns</p>\n",
              "</div>\n",
              "    <div class=\"colab-df-buttons\">\n",
              "\n",
              "  <div class=\"colab-df-container\">\n",
              "    <button class=\"colab-df-convert\" onclick=\"convertToInteractive('df-db9dc971-1066-4f48-bc04-1c76dd4c7ad3')\"\n",
              "            title=\"Convert this dataframe to an interactive table.\"\n",
              "            style=\"display:none;\">\n",
              "\n",
              "  <svg xmlns=\"http://www.w3.org/2000/svg\" height=\"24px\" viewBox=\"0 -960 960 960\">\n",
              "    <path d=\"M120-120v-720h720v720H120Zm60-500h600v-160H180v160Zm220 220h160v-160H400v160Zm0 220h160v-160H400v160ZM180-400h160v-160H180v160Zm440 0h160v-160H620v160ZM180-180h160v-160H180v160Zm440 0h160v-160H620v160Z\"/>\n",
              "  </svg>\n",
              "    </button>\n",
              "\n",
              "  <style>\n",
              "    .colab-df-container {\n",
              "      display:flex;\n",
              "      gap: 12px;\n",
              "    }\n",
              "\n",
              "    .colab-df-convert {\n",
              "      background-color: #E8F0FE;\n",
              "      border: none;\n",
              "      border-radius: 50%;\n",
              "      cursor: pointer;\n",
              "      display: none;\n",
              "      fill: #1967D2;\n",
              "      height: 32px;\n",
              "      padding: 0 0 0 0;\n",
              "      width: 32px;\n",
              "    }\n",
              "\n",
              "    .colab-df-convert:hover {\n",
              "      background-color: #E2EBFA;\n",
              "      box-shadow: 0px 1px 2px rgba(60, 64, 67, 0.3), 0px 1px 3px 1px rgba(60, 64, 67, 0.15);\n",
              "      fill: #174EA6;\n",
              "    }\n",
              "\n",
              "    .colab-df-buttons div {\n",
              "      margin-bottom: 4px;\n",
              "    }\n",
              "\n",
              "    [theme=dark] .colab-df-convert {\n",
              "      background-color: #3B4455;\n",
              "      fill: #D2E3FC;\n",
              "    }\n",
              "\n",
              "    [theme=dark] .colab-df-convert:hover {\n",
              "      background-color: #434B5C;\n",
              "      box-shadow: 0px 1px 3px 1px rgba(0, 0, 0, 0.15);\n",
              "      filter: drop-shadow(0px 1px 2px rgba(0, 0, 0, 0.3));\n",
              "      fill: #FFFFFF;\n",
              "    }\n",
              "  </style>\n",
              "\n",
              "    <script>\n",
              "      const buttonEl =\n",
              "        document.querySelector('#df-db9dc971-1066-4f48-bc04-1c76dd4c7ad3 button.colab-df-convert');\n",
              "      buttonEl.style.display =\n",
              "        google.colab.kernel.accessAllowed ? 'block' : 'none';\n",
              "\n",
              "      async function convertToInteractive(key) {\n",
              "        const element = document.querySelector('#df-db9dc971-1066-4f48-bc04-1c76dd4c7ad3');\n",
              "        const dataTable =\n",
              "          await google.colab.kernel.invokeFunction('convertToInteractive',\n",
              "                                                    [key], {});\n",
              "        if (!dataTable) return;\n",
              "\n",
              "        const docLinkHtml = 'Like what you see? Visit the ' +\n",
              "          '<a target=\"_blank\" href=https://colab.research.google.com/notebooks/data_table.ipynb>data table notebook</a>'\n",
              "          + ' to learn more about interactive tables.';\n",
              "        element.innerHTML = '';\n",
              "        dataTable['output_type'] = 'display_data';\n",
              "        await google.colab.output.renderOutput(dataTable, element);\n",
              "        const docLink = document.createElement('div');\n",
              "        docLink.innerHTML = docLinkHtml;\n",
              "        element.appendChild(docLink);\n",
              "      }\n",
              "    </script>\n",
              "  </div>\n",
              "\n",
              "\n",
              "<div id=\"df-ce3c3053-7e77-4b4b-8fbd-dfbaa728991d\">\n",
              "  <button class=\"colab-df-quickchart\" onclick=\"quickchart('df-ce3c3053-7e77-4b4b-8fbd-dfbaa728991d')\"\n",
              "            title=\"Suggest charts\"\n",
              "            style=\"display:none;\">\n",
              "\n",
              "<svg xmlns=\"http://www.w3.org/2000/svg\" height=\"24px\"viewBox=\"0 0 24 24\"\n",
              "     width=\"24px\">\n",
              "    <g>\n",
              "        <path d=\"M19 3H5c-1.1 0-2 .9-2 2v14c0 1.1.9 2 2 2h14c1.1 0 2-.9 2-2V5c0-1.1-.9-2-2-2zM9 17H7v-7h2v7zm4 0h-2V7h2v10zm4 0h-2v-4h2v4z\"/>\n",
              "    </g>\n",
              "</svg>\n",
              "  </button>\n",
              "\n",
              "<style>\n",
              "  .colab-df-quickchart {\n",
              "      --bg-color: #E8F0FE;\n",
              "      --fill-color: #1967D2;\n",
              "      --hover-bg-color: #E2EBFA;\n",
              "      --hover-fill-color: #174EA6;\n",
              "      --disabled-fill-color: #AAA;\n",
              "      --disabled-bg-color: #DDD;\n",
              "  }\n",
              "\n",
              "  [theme=dark] .colab-df-quickchart {\n",
              "      --bg-color: #3B4455;\n",
              "      --fill-color: #D2E3FC;\n",
              "      --hover-bg-color: #434B5C;\n",
              "      --hover-fill-color: #FFFFFF;\n",
              "      --disabled-bg-color: #3B4455;\n",
              "      --disabled-fill-color: #666;\n",
              "  }\n",
              "\n",
              "  .colab-df-quickchart {\n",
              "    background-color: var(--bg-color);\n",
              "    border: none;\n",
              "    border-radius: 50%;\n",
              "    cursor: pointer;\n",
              "    display: none;\n",
              "    fill: var(--fill-color);\n",
              "    height: 32px;\n",
              "    padding: 0;\n",
              "    width: 32px;\n",
              "  }\n",
              "\n",
              "  .colab-df-quickchart:hover {\n",
              "    background-color: var(--hover-bg-color);\n",
              "    box-shadow: 0 1px 2px rgba(60, 64, 67, 0.3), 0 1px 3px 1px rgba(60, 64, 67, 0.15);\n",
              "    fill: var(--button-hover-fill-color);\n",
              "  }\n",
              "\n",
              "  .colab-df-quickchart-complete:disabled,\n",
              "  .colab-df-quickchart-complete:disabled:hover {\n",
              "    background-color: var(--disabled-bg-color);\n",
              "    fill: var(--disabled-fill-color);\n",
              "    box-shadow: none;\n",
              "  }\n",
              "\n",
              "  .colab-df-spinner {\n",
              "    border: 2px solid var(--fill-color);\n",
              "    border-color: transparent;\n",
              "    border-bottom-color: var(--fill-color);\n",
              "    animation:\n",
              "      spin 1s steps(1) infinite;\n",
              "  }\n",
              "\n",
              "  @keyframes spin {\n",
              "    0% {\n",
              "      border-color: transparent;\n",
              "      border-bottom-color: var(--fill-color);\n",
              "      border-left-color: var(--fill-color);\n",
              "    }\n",
              "    20% {\n",
              "      border-color: transparent;\n",
              "      border-left-color: var(--fill-color);\n",
              "      border-top-color: var(--fill-color);\n",
              "    }\n",
              "    30% {\n",
              "      border-color: transparent;\n",
              "      border-left-color: var(--fill-color);\n",
              "      border-top-color: var(--fill-color);\n",
              "      border-right-color: var(--fill-color);\n",
              "    }\n",
              "    40% {\n",
              "      border-color: transparent;\n",
              "      border-right-color: var(--fill-color);\n",
              "      border-top-color: var(--fill-color);\n",
              "    }\n",
              "    60% {\n",
              "      border-color: transparent;\n",
              "      border-right-color: var(--fill-color);\n",
              "    }\n",
              "    80% {\n",
              "      border-color: transparent;\n",
              "      border-right-color: var(--fill-color);\n",
              "      border-bottom-color: var(--fill-color);\n",
              "    }\n",
              "    90% {\n",
              "      border-color: transparent;\n",
              "      border-bottom-color: var(--fill-color);\n",
              "    }\n",
              "  }\n",
              "</style>\n",
              "\n",
              "  <script>\n",
              "    async function quickchart(key) {\n",
              "      const quickchartButtonEl =\n",
              "        document.querySelector('#' + key + ' button');\n",
              "      quickchartButtonEl.disabled = true;  // To prevent multiple clicks.\n",
              "      quickchartButtonEl.classList.add('colab-df-spinner');\n",
              "      try {\n",
              "        const charts = await google.colab.kernel.invokeFunction(\n",
              "            'suggestCharts', [key], {});\n",
              "      } catch (error) {\n",
              "        console.error('Error during call to suggestCharts:', error);\n",
              "      }\n",
              "      quickchartButtonEl.classList.remove('colab-df-spinner');\n",
              "      quickchartButtonEl.classList.add('colab-df-quickchart-complete');\n",
              "    }\n",
              "    (() => {\n",
              "      let quickchartButtonEl =\n",
              "        document.querySelector('#df-ce3c3053-7e77-4b4b-8fbd-dfbaa728991d button');\n",
              "      quickchartButtonEl.style.display =\n",
              "        google.colab.kernel.accessAllowed ? 'block' : 'none';\n",
              "    })();\n",
              "  </script>\n",
              "</div>\n",
              "\n",
              "  <div id=\"id_5cb33194-6440-4992-b25a-3bd74728e481\">\n",
              "    <style>\n",
              "      .colab-df-generate {\n",
              "        background-color: #E8F0FE;\n",
              "        border: none;\n",
              "        border-radius: 50%;\n",
              "        cursor: pointer;\n",
              "        display: none;\n",
              "        fill: #1967D2;\n",
              "        height: 32px;\n",
              "        padding: 0 0 0 0;\n",
              "        width: 32px;\n",
              "      }\n",
              "\n",
              "      .colab-df-generate:hover {\n",
              "        background-color: #E2EBFA;\n",
              "        box-shadow: 0px 1px 2px rgba(60, 64, 67, 0.3), 0px 1px 3px 1px rgba(60, 64, 67, 0.15);\n",
              "        fill: #174EA6;\n",
              "      }\n",
              "\n",
              "      [theme=dark] .colab-df-generate {\n",
              "        background-color: #3B4455;\n",
              "        fill: #D2E3FC;\n",
              "      }\n",
              "\n",
              "      [theme=dark] .colab-df-generate:hover {\n",
              "        background-color: #434B5C;\n",
              "        box-shadow: 0px 1px 3px 1px rgba(0, 0, 0, 0.15);\n",
              "        filter: drop-shadow(0px 1px 2px rgba(0, 0, 0, 0.3));\n",
              "        fill: #FFFFFF;\n",
              "      }\n",
              "    </style>\n",
              "    <button class=\"colab-df-generate\" onclick=\"generateWithVariable('movies_with_credits')\"\n",
              "            title=\"Generate code using this dataframe.\"\n",
              "            style=\"display:none;\">\n",
              "\n",
              "  <svg xmlns=\"http://www.w3.org/2000/svg\" height=\"24px\"viewBox=\"0 0 24 24\"\n",
              "       width=\"24px\">\n",
              "    <path d=\"M7,19H8.4L18.45,9,17,7.55,7,17.6ZM5,21V16.75L18.45,3.32a2,2,0,0,1,2.83,0l1.4,1.43a1.91,1.91,0,0,1,.58,1.4,1.91,1.91,0,0,1-.58,1.4L9.25,21ZM18.45,9,17,7.55Zm-12,3A5.31,5.31,0,0,0,4.9,8.1,5.31,5.31,0,0,0,1,6.5,5.31,5.31,0,0,0,4.9,4.9,5.31,5.31,0,0,0,6.5,1,5.31,5.31,0,0,0,8.1,4.9,5.31,5.31,0,0,0,12,6.5,5.46,5.46,0,0,0,6.5,12Z\"/>\n",
              "  </svg>\n",
              "    </button>\n",
              "    <script>\n",
              "      (() => {\n",
              "      const buttonEl =\n",
              "        document.querySelector('#id_5cb33194-6440-4992-b25a-3bd74728e481 button.colab-df-generate');\n",
              "      buttonEl.style.display =\n",
              "        google.colab.kernel.accessAllowed ? 'block' : 'none';\n",
              "\n",
              "      buttonEl.onclick = () => {\n",
              "        google.colab.notebook.generateWithVariable('movies_with_credits');\n",
              "      }\n",
              "      })();\n",
              "    </script>\n",
              "  </div>\n",
              "\n",
              "    </div>\n",
              "  </div>\n"
            ],
            "application/vnd.google.colaboratory.intrinsic+json": {
              "type": "dataframe",
              "variable_name": "movies_with_credits",
              "summary": "{\n  \"name\": \"movies_with_credits\",\n  \"rows\": 4803,\n  \"fields\": [\n    {\n      \"column\": \"budget\",\n      \"properties\": {\n        \"dtype\": \"number\",\n        \"std\": 40722391,\n        \"min\": 0,\n        \"max\": 380000000,\n        \"num_unique_values\": 436,\n        \"samples\": [\n          439000,\n          68000000,\n          700000\n        ],\n        \"semantic_type\": \"\",\n        \"description\": \"\"\n      }\n    },\n    {\n      \"column\": \"genres\",\n      \"properties\": {\n        \"dtype\": \"category\",\n        \"num_unique_values\": 1175,\n        \"samples\": [\n          \"[{\\\"id\\\": 14, \\\"name\\\": \\\"Fantasy\\\"}, {\\\"id\\\": 12, \\\"name\\\": \\\"Adventure\\\"}, {\\\"id\\\": 16, \\\"name\\\": \\\"Animation\\\"}]\",\n          \"[{\\\"id\\\": 28, \\\"name\\\": \\\"Action\\\"}, {\\\"id\\\": 35, \\\"name\\\": \\\"Comedy\\\"}, {\\\"id\\\": 80, \\\"name\\\": \\\"Crime\\\"}, {\\\"id\\\": 18, \\\"name\\\": \\\"Drama\\\"}]\",\n          \"[{\\\"id\\\": 12, \\\"name\\\": \\\"Adventure\\\"}, {\\\"id\\\": 16, \\\"name\\\": \\\"Animation\\\"}, {\\\"id\\\": 10751, \\\"name\\\": \\\"Family\\\"}, {\\\"id\\\": 14, \\\"name\\\": \\\"Fantasy\\\"}, {\\\"id\\\": 878, \\\"name\\\": \\\"Science Fiction\\\"}]\"\n        ],\n        \"semantic_type\": \"\",\n        \"description\": \"\"\n      }\n    },\n    {\n      \"column\": \"id\",\n      \"properties\": {\n        \"dtype\": \"date\",\n        \"min\": 5,\n        \"max\": 459488,\n        \"num_unique_values\": 4803,\n        \"samples\": [\n          8427,\n          13006,\n          18041\n        ],\n        \"semantic_type\": \"\",\n        \"description\": \"\"\n      }\n    },\n    {\n      \"column\": \"popularity\",\n      \"properties\": {\n        \"dtype\": \"number\",\n        \"std\": 31.816649749537774,\n        \"min\": 0.0,\n        \"max\": 875.581305,\n        \"num_unique_values\": 4802,\n        \"samples\": [\n          13.267631,\n          0.010909,\n          5.842299\n        ],\n        \"semantic_type\": \"\",\n        \"description\": \"\"\n      }\n    },\n    {\n      \"column\": \"production_companies\",\n      \"properties\": {\n        \"dtype\": \"string\",\n        \"num_unique_values\": 3697,\n        \"samples\": [\n          \"[{\\\"name\\\": \\\"Paramount Pictures\\\", \\\"id\\\": 4}, {\\\"name\\\": \\\"Cherry Alley Productions\\\", \\\"id\\\": 2232}]\",\n          \"[{\\\"name\\\": \\\"Twentieth Century Fox Film Corporation\\\", \\\"id\\\": 306}, {\\\"name\\\": \\\"Dune Entertainment\\\", \\\"id\\\": 444}, {\\\"name\\\": \\\"Regency Enterprises\\\", \\\"id\\\": 508}, {\\\"name\\\": \\\"Guy Walks into a Bar Productions\\\", \\\"id\\\": 2645}, {\\\"name\\\": \\\"Deep River Productions\\\", \\\"id\\\": 2646}, {\\\"name\\\": \\\"Friendly Films (II)\\\", \\\"id\\\": 81136}]\",\n          \"[{\\\"name\\\": \\\"Twentieth Century Fox Film Corporation\\\", \\\"id\\\": 306}]\"\n        ],\n        \"semantic_type\": \"\",\n        \"description\": \"\"\n      }\n    },\n    {\n      \"column\": \"release_date\",\n      \"properties\": {\n        \"dtype\": \"object\",\n        \"num_unique_values\": 3280,\n        \"samples\": [\n          \"10/16/1966\",\n          \"7/31/1987\",\n          \"9/23/1993\"\n        ],\n        \"semantic_type\": \"\",\n        \"description\": \"\"\n      }\n    },\n    {\n      \"column\": \"revenue\",\n      \"properties\": {\n        \"dtype\": \"number\",\n        \"std\": 162857100,\n        \"min\": 0,\n        \"max\": 2787965087,\n        \"num_unique_values\": 3297,\n        \"samples\": [\n          11833696,\n          10462500,\n          17807569\n        ],\n        \"semantic_type\": \"\",\n        \"description\": \"\"\n      }\n    },\n    {\n      \"column\": \"overview\",\n      \"properties\": {\n        \"dtype\": \"string\",\n        \"num_unique_values\": 4800,\n        \"samples\": [\n          \"When the Switchblade, the most sophisticated prototype stealth fighter created yet, is stolen from the U.S. government, one of the United States' top spies, Alex Scott, is called to action. What he doesn't expect is to get teamed up with a cocky civilian, World Class Boxing Champion Kelly Robinson, on a dangerous top secret espionage mission. Their assignment: using equal parts skill and humor, catch Arnold Gundars, one of the world's most successful arms dealers.\",\n          \"When \\\"street smart\\\" rapper Christopher \\\"C-Note\\\" Hawkins (Big Boi) applies for a membership to all-white Carolina Pines Country Club, the establishment's proprietors are hardly ready to oblige him.\",\n          \"As their first year of high school looms ahead, best friends Julie, Hannah, Yancy and Farrah have one last summer sleepover. Little do they know they're about to embark on the adventure of a lifetime. Desperate to shed their nerdy status, they take part in a night-long scavenger hunt that pits them against their popular archrivals. Everything under the sun goes on -- from taking Yancy's father's car to sneaking into nightclubs!\"\n        ],\n        \"semantic_type\": \"\",\n        \"description\": \"\"\n      }\n    },\n    {\n      \"column\": \"vote_average\",\n      \"properties\": {\n        \"dtype\": \"number\",\n        \"std\": 1.1946121628478923,\n        \"min\": 0.0,\n        \"max\": 10.0,\n        \"num_unique_values\": 71,\n        \"samples\": [\n          5.1,\n          7.2,\n          4.0\n        ],\n        \"semantic_type\": \"\",\n        \"description\": \"\"\n      }\n    },\n    {\n      \"column\": \"title\",\n      \"properties\": {\n        \"dtype\": \"string\",\n        \"num_unique_values\": 4800,\n        \"samples\": [\n          \"I Spy\",\n          \"Who's Your Caddy?\",\n          \"Sleepover\"\n        ],\n        \"semantic_type\": \"\",\n        \"description\": \"\"\n      }\n    },\n    {\n      \"column\": \"cast\",\n      \"properties\": {\n        \"dtype\": \"string\",\n        \"num_unique_values\": 3255,\n        \"samples\": [\n          \"[{\\\"cast_id\\\": 4, \\\"character\\\": \\\"George Falconer\\\", \\\"credit_id\\\": \\\"52fe45729251416c910329cf\\\", \\\"gender\\\": 2, \\\"id\\\": 5472, \\\"name\\\": \\\"Colin Firth\\\", \\\"order\\\": 0}, {\\\"cast_id\\\": 5, \\\"character\\\": \\\"Charley\\\", \\\"credit_id\\\": \\\"52fe45729251416c910329d3\\\", \\\"gender\\\": 1, \\\"id\\\": 1231, \\\"name\\\": \\\"Julianne Moore\\\", \\\"order\\\": 1}, {\\\"cast_id\\\": 6, \\\"character\\\": \\\"Kenny Potter\\\", \\\"credit_id\\\": \\\"52fe45729251416c910329d7\\\", \\\"gender\\\": 2, \\\"id\\\": 3292, \\\"name\\\": \\\"Nicholas Hoult\\\", \\\"order\\\": 2}, {\\\"cast_id\\\": 7, \\\"character\\\": \\\"Jim\\\", \\\"credit_id\\\": \\\"52fe45729251416c910329db\\\", \\\"gender\\\": 2, \\\"id\\\": 1247, \\\"name\\\": \\\"Matthew Goode\\\", \\\"order\\\": 3}, {\\\"cast_id\\\": 20, \\\"character\\\": \\\"Carlos\\\", \\\"credit_id\\\": \\\"536394c6c3a3681586002170\\\", \\\"gender\\\": 2, \\\"id\\\": 1316023, \\\"name\\\": \\\"Jon Kortajarena\\\", \\\"order\\\": 4}, {\\\"cast_id\\\": 8, \\\"character\\\": \\\"Alva\\\", \\\"credit_id\\\": \\\"52fe45729251416c910329df\\\", \\\"gender\\\": 1, \\\"id\\\": 142380, \\\"name\\\": \\\"Paulette Lamori\\\", \\\"order\\\": 5}, {\\\"cast_id\\\": 9, \\\"character\\\": \\\"Jennifer Strunk\\\", \\\"credit_id\\\": \\\"52fe45729251416c910329e3\\\", \\\"gender\\\": 1, \\\"id\\\": 35027, \\\"name\\\": \\\"Ryan Simpkins\\\", \\\"order\\\": 6}, {\\\"cast_id\\\": 10, \\\"character\\\": \\\"Mrs. Strunk\\\", \\\"credit_id\\\": \\\"52fe45729251416c910329e7\\\", \\\"gender\\\": 1, \\\"id\\\": 417, \\\"name\\\": \\\"Ginnifer Goodwin\\\", \\\"order\\\": 7}, {\\\"cast_id\\\": 11, \\\"character\\\": \\\"Mr. Strunk\\\", \\\"credit_id\\\": \\\"52fe45729251416c910329eb\\\", \\\"gender\\\": 2, \\\"id\\\": 63540, \\\"name\\\": \\\"Teddy Sears\\\", \\\"order\\\": 8}, {\\\"cast_id\\\": 17, \\\"character\\\": \\\"Christopher Strunk\\\", \\\"credit_id\\\": \\\"52fe45729251416c91032a01\\\", \\\"gender\\\": 2, \\\"id\\\": 162526, \\\"name\\\": \\\"Paul Butler\\\", \\\"order\\\": 9}, {\\\"cast_id\\\": 13, \\\"character\\\": \\\"Tom Strunk\\\", \\\"credit_id\\\": \\\"52fe45729251416c910329ef\\\", \\\"gender\\\": 2, \\\"id\\\": 142381, \\\"name\\\": \\\"Aaron Sanders\\\", \\\"order\\\": 10}, {\\\"cast_id\\\": 14, \\\"character\\\": \\\"Blonde Secretary\\\", \\\"credit_id\\\": \\\"52fe45729251416c910329f3\\\", \\\"gender\\\": 0, \\\"id\\\": 77803, \\\"name\\\": \\\"Keri Lynn Pratt\\\", \\\"order\\\": 11}, {\\\"cast_id\\\": 16, \\\"character\\\": \\\"Young Woman\\\", \\\"credit_id\\\": \\\"52fe45729251416c910329fd\\\", \\\"gender\\\": 1, \\\"id\\\": 78197, \\\"name\\\": \\\"Elisabeth Harnois\\\", \\\"order\\\": 12}, {\\\"cast_id\\\": 18, \\\"character\\\": \\\"Grant\\\", \\\"credit_id\\\": \\\"52fe45729251416c91032a05\\\", \\\"gender\\\": 2, \\\"id\\\": 72095, \\\"name\\\": \\\"Lee Pace\\\", \\\"order\\\": 13}, {\\\"cast_id\\\": 34, \\\"character\\\": \\\"Hank Ackerley\\\", \\\"credit_id\\\": \\\"5551f39f9251415b210003b2\\\", \\\"gender\\\": 2, \\\"id\\\": 65717, \\\"name\\\": \\\"Jon Hamm\\\", \\\"order\\\": 14}, {\\\"cast_id\\\": 35, \\\"character\\\": \\\"Lois\\\", \\\"credit_id\\\": \\\"566240a8c3a3682be900152a\\\", \\\"gender\\\": 0, \\\"id\\\": 1544916, \\\"name\\\": \\\"Aline Weber\\\", \\\"order\\\": 15}, {\\\"cast_id\\\": 36, \\\"character\\\": \\\"Other Secretary #1\\\", \\\"credit_id\\\": \\\"566240df9251412aca00152a\\\", \\\"gender\\\": 2, \\\"id\\\": 145132, \\\"name\\\": \\\"Jenna Gavigan\\\", \\\"order\\\": 16}, {\\\"cast_id\\\": 37, \\\"character\\\": \\\"Other Secretary #2\\\", \\\"credit_id\\\": \\\"566240f59251412ac4001413\\\", \\\"gender\\\": 0, \\\"id\\\": 1544917, \\\"name\\\": \\\"Alicia Carr\\\", \\\"order\\\": 17}, {\\\"cast_id\\\": 38, \\\"character\\\": \\\"Maria\\\", \\\"credit_id\\\": \\\"569d70dbc3a36858c6004a32\\\", \\\"gender\\\": 0, \\\"id\\\": 1565504, \\\"name\\\": \\\"Marlene Martinez\\\", \\\"order\\\": 18}, {\\\"cast_id\\\": 39, \\\"character\\\": \\\"Doris\\\", \\\"credit_id\\\": \\\"569d71339251415e7300424f\\\", \\\"gender\\\": 1, \\\"id\\\": 1230899, \\\"name\\\": \\\"Nicole Steinwedell\\\", \\\"order\\\": 19}, {\\\"cast_id\\\": 40, \\\"character\\\": \\\"Myron\\\", \\\"credit_id\\\": \\\"569d71f4c3a36858c6004a53\\\", \\\"gender\\\": 0, \\\"id\\\": 1255902, \\\"name\\\": \\\"Adam Shapiro\\\", \\\"order\\\": 20}, {\\\"cast_id\\\": 41, \\\"character\\\": \\\"Cashier\\\", \\\"credit_id\\\": \\\"59a7d89fc3a3683c87011eab\\\", \\\"gender\\\": 0, \\\"id\\\": 1879749, \\\"name\\\": \\\"Tricia Munford\\\", \\\"order\\\": 21}]\",\n          \"[{\\\"cast_id\\\": 3, \\\"character\\\": \\\"Margaret Tate\\\", \\\"credit_id\\\": \\\"52fe476d9251416c75098e47\\\", \\\"gender\\\": 1, \\\"id\\\": 18277, \\\"name\\\": \\\"Sandra Bullock\\\", \\\"order\\\": 0}, {\\\"cast_id\\\": 4, \\\"character\\\": \\\"Andrew Paxton\\\", \\\"credit_id\\\": \\\"52fe476d9251416c75098e4b\\\", \\\"gender\\\": 2, \\\"id\\\": 10859, \\\"name\\\": \\\"Ryan Reynolds\\\", \\\"order\\\": 1}, {\\\"cast_id\\\": 5, \\\"character\\\": \\\"Grace Paxton\\\", \\\"credit_id\\\": \\\"52fe476d9251416c75098e4f\\\", \\\"gender\\\": 1, \\\"id\\\": 2453, \\\"name\\\": \\\"Mary Steenburgen\\\", \\\"order\\\": 2}, {\\\"cast_id\\\": 6, \\\"character\\\": \\\"Joe Paxton\\\", \\\"credit_id\\\": \\\"52fe476d9251416c75098e53\\\", \\\"gender\\\": 2, \\\"id\\\": 8977, \\\"name\\\": \\\"Craig T. Nelson\\\", \\\"order\\\": 3}, {\\\"cast_id\\\": 7, \\\"character\\\": \\\"Grandma Annie\\\", \\\"credit_id\\\": \\\"52fe476d9251416c75098e57\\\", \\\"gender\\\": 1, \\\"id\\\": 71727, \\\"name\\\": \\\"Betty White\\\", \\\"order\\\": 4}, {\\\"cast_id\\\": 8, \\\"character\\\": \\\"Mr. Gilbertson\\\", \\\"credit_id\\\": \\\"52fe476d9251416c75098e5b\\\", \\\"gender\\\": 2, \\\"id\\\": 81681, \\\"name\\\": \\\"Denis O'Hare\\\", \\\"order\\\": 5}, {\\\"cast_id\\\": 9, \\\"character\\\": \\\"Gertrude\\\", \\\"credit_id\\\": \\\"52fe476d9251416c75098e5f\\\", \\\"gender\\\": 1, \\\"id\\\": 50463, \\\"name\\\": \\\"Malin \\\\u00c5kerman\\\", \\\"order\\\": 6}, {\\\"cast_id\\\": 10, \\\"character\\\": \\\"Ramone\\\", \\\"credit_id\\\": \\\"52fe476d9251416c75098e63\\\", \\\"gender\\\": 2, \\\"id\\\": 76094, \\\"name\\\": \\\"Oscar Nunez\\\", \\\"order\\\": 7}, {\\\"cast_id\\\": 11, \\\"character\\\": \\\"Bob Spaulding\\\", \\\"credit_id\\\": \\\"52fe476d9251416c75098e67\\\", \\\"gender\\\": 2, \\\"id\\\": 20644, \\\"name\\\": \\\"Aasif Mandvi\\\", \\\"order\\\": 8}, {\\\"cast_id\\\": 12, \\\"character\\\": \\\"Chairman Bergen\\\", \\\"credit_id\\\": \\\"52fe476d9251416c75098e6b\\\", \\\"gender\\\": 2, \\\"id\\\": 8699, \\\"name\\\": \\\"Michael Nouri\\\", \\\"order\\\": 9}, {\\\"cast_id\\\": 13, \\\"character\\\": \\\"Chuck\\\", \\\"credit_id\\\": \\\"52fe476d9251416c75098e6f\\\", \\\"gender\\\": 2, \\\"id\\\": 72994, \\\"name\\\": \\\"Michael Mosley\\\", \\\"order\\\": 10}, {\\\"cast_id\\\": 14, \\\"character\\\": \\\"Jim McKittrick\\\", \\\"credit_id\\\": \\\"52fe476d9251416c75098e73\\\", \\\"gender\\\": 0, \\\"id\\\": 84436, \\\"name\\\": \\\"Dale Place\\\", \\\"order\\\": 11}, {\\\"cast_id\\\": 41, \\\"character\\\": \\\"Party Guest\\\", \\\"credit_id\\\": \\\"56c65ea59251412458003fad\\\", \\\"gender\\\": 1, \\\"id\\\": 63674, \\\"name\\\": \\\"Kate Lacey\\\", \\\"order\\\": 12}, {\\\"cast_id\\\": 42, \\\"character\\\": \\\"Colden Books Receptionist\\\", \\\"credit_id\\\": \\\"56c662dac3a3680d41004395\\\", \\\"gender\\\": 1, \\\"id\\\": 112266, \\\"name\\\": \\\"Kortney Adams\\\", \\\"order\\\": 13}, {\\\"cast_id\\\": 43, \\\"character\\\": \\\"Medivac Pilot\\\", \\\"credit_id\\\": \\\"56c662fc9251412454004085\\\", \\\"gender\\\": 2, \\\"id\\\": 1579759, \\\"name\\\": \\\"Chris Whitney\\\", \\\"order\\\": 14}, {\\\"cast_id\\\": 44, \\\"character\\\": \\\"Jordan\\\", \\\"credit_id\\\": \\\"56c66313c3a3680d49004421\\\", \\\"gender\\\": 0, \\\"id\\\": 118645, \\\"name\\\": \\\"Jerrell Lee Wesley\\\", \\\"order\\\": 15}, {\\\"cast_id\\\": 45, \\\"character\\\": \\\"Lead Counsel Malloy\\\", \\\"credit_id\\\": \\\"56c664f1925141245b004345\\\", \\\"gender\\\": 2, \\\"id\\\": 17179, \\\"name\\\": \\\"Gregg Edelman\\\", \\\"order\\\": 16}, {\\\"cast_id\\\": 46, \\\"character\\\": \\\"Executive Secretary\\\", \\\"credit_id\\\": \\\"56c6650ac3a3680d44004882\\\", \\\"gender\\\": 1, \\\"id\\\": 1579760, \\\"name\\\": \\\"Mary Linda Rapelye\\\", \\\"order\\\": 17}, {\\\"cast_id\\\": 47, \\\"character\\\": \\\"Jill\\\", \\\"credit_id\\\": \\\"56c6651a92514124490045ea\\\", \\\"gender\\\": 1, \\\"id\\\": 29214, \\\"name\\\": \\\"Anne Fletcher\\\", \\\"order\\\": 18}, {\\\"cast_id\\\": 48, \\\"character\\\": \\\"Coffee Barista\\\", \\\"credit_id\\\": \\\"56c666029251412696004056\\\", \\\"gender\\\": 1, \\\"id\\\": 1579761, \\\"name\\\": \\\"Alicia Hunt\\\", \\\"order\\\": 19}, {\\\"cast_id\\\": 49, \\\"character\\\": \\\"Immigration Clerk\\\", \\\"credit_id\\\": \\\"56c66628c3a3680d440048df\\\", \\\"gender\\\": 1, \\\"id\\\": 1579762, \\\"name\\\": \\\"Alexis Garcia\\\", \\\"order\\\": 20}, {\\\"cast_id\\\": 50, \\\"character\\\": \\\"Mrs. McKittrick\\\", \\\"credit_id\\\": \\\"56c666bdc3a3680d4e0046b1\\\", \\\"gender\\\": 1, \\\"id\\\": 1579763, \\\"name\\\": \\\"Phyllis Kay\\\", \\\"order\\\": 21}, {\\\"cast_id\\\": 51, \\\"character\\\": \\\"Store Owner\\\", \\\"credit_id\\\": \\\"56c666d59251412449004665\\\", \\\"gender\\\": 0, \\\"id\\\": 1579764, \\\"name\\\": \\\"Gene Fleming\\\", \\\"order\\\": 22}, {\\\"cast_id\\\": 52, \\\"character\\\": \\\"Guy in Office\\\", \\\"credit_id\\\": \\\"56c667079251412696004095\\\", \\\"gender\\\": 0, \\\"id\\\": 1579765, \\\"name\\\": \\\"B. Johnson\\\", \\\"order\\\": 23}, {\\\"cast_id\\\": 53, \\\"character\\\": \\\"Engagement Party Guest (uncredited)\\\", \\\"credit_id\\\": \\\"56c667269251412451004348\\\", \\\"gender\\\": 1, \\\"id\\\": 1264229, \\\"name\\\": \\\"Jodie Brunelle\\\", \\\"order\\\": 24}, {\\\"cast_id\\\": 54, \\\"character\\\": \\\"African Immigrant at INS Office (uncredited)\\\", \\\"credit_id\\\": \\\"56c6673fc3a3680d44004933\\\", \\\"gender\\\": 1, \\\"id\\\": 1475121, \\\"name\\\": \\\"Chemi Che-Mponda\\\", \\\"order\\\": 25}, {\\\"cast_id\\\": 55, \\\"character\\\": \\\"Taxicab Driver (uncredited)\\\", \\\"credit_id\\\": \\\"56c66756925141498f000672\\\", \\\"gender\\\": 0, \\\"id\\\": 928638, \\\"name\\\": \\\"John Franchi\\\", \\\"order\\\": 26}, {\\\"cast_id\\\": 56, \\\"character\\\": \\\"Wedding Guest\\\", \\\"credit_id\\\": \\\"589b4903c3a3683ab8007b34\\\", \\\"gender\\\": 1, \\\"id\\\": 1753484, \\\"name\\\": \\\"Cindi Alex\\\", \\\"order\\\": 27}, {\\\"cast_id\\\": 57, \\\"character\\\": \\\"Woman Buying Coffee\\\", \\\"credit_id\\\": \\\"589b496bc3a3683aa30080bf\\\", \\\"gender\\\": 1, \\\"id\\\": 1103658, \\\"name\\\": \\\"Ellen Becker-Gray\\\", \\\"order\\\": 28}, {\\\"cast_id\\\": 58, \\\"character\\\": \\\"Shopper\\\", \\\"credit_id\\\": \\\"589b4a12c3a3683a98007d59\\\", \\\"gender\\\": 0, \\\"id\\\": 1753500, \\\"name\\\": \\\"Raymond Michael Bell\\\", \\\"order\\\": 29}, {\\\"cast_id\\\": 59, \\\"character\\\": \\\"Airline Crew\\\", \\\"credit_id\\\": \\\"589b4a1f925141237e0083d1\\\", \\\"gender\\\": 0, \\\"id\\\": 1753502, \\\"name\\\": \\\"Brian Bradbury\\\", \\\"order\\\": 30}, {\\\"cast_id\\\": 60, \\\"character\\\": \\\"Airline Passenger\\\", \\\"credit_id\\\": \\\"589b4a5cc3a3683ab8007c0a\\\", \\\"gender\\\": 0, \\\"id\\\": 1753505, \\\"name\\\": \\\"John J. Burke\\\", \\\"order\\\": 31}, {\\\"cast_id\\\": 61, \\\"character\\\": \\\"Office Worker\\\", \\\"credit_id\\\": \\\"589b4a779251412390007fdd\\\", \\\"gender\\\": 1, \\\"id\\\": 1753506, \\\"name\\\": \\\"Desiree April Connolly\\\", \\\"order\\\": 32}, {\\\"cast_id\\\": 62, \\\"character\\\": \\\"Waitress\\\", \\\"credit_id\\\": \\\"589b4af0c3a3683aa30081a8\\\", \\\"gender\\\": 1, \\\"id\\\": 1753511, \\\"name\\\": \\\"Melanie McDonough Cot\\\\u00e9\\\", \\\"order\\\": 33}, {\\\"cast_id\\\": 63, \\\"character\\\": \\\"1st Class Airline Passenger\\\", \\\"credit_id\\\": \\\"589b4b27c3a3683a960086d7\\\", \\\"gender\\\": 1, \\\"id\\\": 1753513, \\\"name\\\": \\\"Diane Curran\\\", \\\"order\\\": 34}, {\\\"cast_id\\\": 64, \\\"character\\\": \\\"Immigrant at INS Officer\\\", \\\"credit_id\\\": \\\"589b4b5e925141238100836c\\\", \\\"gender\\\": 0, \\\"id\\\": 1753517, \\\"name\\\": \\\"Eric Ferraz\\\", \\\"order\\\": 35}, {\\\"cast_id\\\": 65, \\\"character\\\": \\\"Immigrant at INS Office\\\", \\\"credit_id\\\": \\\"589b4b65925141238d0076cc\\\", \\\"gender\\\": 0, \\\"id\\\": 1753517, \\\"name\\\": \\\"Eric Ferraz\\\", \\\"order\\\": 36}, {\\\"cast_id\\\": 66, \\\"character\\\": \\\"Businessman\\\", \\\"credit_id\\\": \\\"589b4b7a925141238a008041\\\", \\\"gender\\\": 0, \\\"id\\\": 1753518, \\\"name\\\": \\\"Keith Fluker\\\", \\\"order\\\": 37}, {\\\"cast_id\\\": 67, \\\"character\\\": \\\"Alaska Plane Passenger\\\", \\\"credit_id\\\": \\\"589b4b94c3a3683a9e007cdd\\\", \\\"gender\\\": 0, \\\"id\\\": 1535492, \\\"name\\\": \\\"Shawn Fogarty\\\", \\\"order\\\": 38}, {\\\"cast_id\\\": 68, \\\"character\\\": \\\"Businessman / Pedestrian on Sidewalk\\\", \\\"credit_id\\\": \\\"589b4bb0c3a3683ab000857f\\\", \\\"gender\\\": 0, \\\"id\\\": 1753519, \\\"name\\\": \\\"Dan Griffin\\\", \\\"order\\\": 39}, {\\\"cast_id\\\": 69, \\\"character\\\": \\\"Sitka Airline Passenger\\\", \\\"credit_id\\\": \\\"589b4bc192514123810083a0\\\", \\\"gender\\\": 1, \\\"id\\\": 1753520, \\\"name\\\": \\\"Sophya Gudelman\\\", \\\"order\\\": 40}, {\\\"cast_id\\\": 70, \\\"character\\\": \\\"Gay Friend\\\", \\\"credit_id\\\": \\\"589b4c6a925141237b00874a\\\", \\\"gender\\\": 0, \\\"id\\\": 1753521, \\\"name\\\": \\\"Joseph Guglielmo\\\", \\\"order\\\": 41}, {\\\"cast_id\\\": 71, \\\"character\\\": \\\"Wedding and Reception Guest\\\", \\\"credit_id\\\": \\\"589b4c85c3a3683aaa0086a0\\\", \\\"gender\\\": 1, \\\"id\\\": 1553308, \\\"name\\\": \\\"London Hall\\\", \\\"order\\\": 42}, {\\\"cast_id\\\": 72, \\\"character\\\": \\\"Office Worker\\\", \\\"credit_id\\\": \\\"589b4cf2925141237e008587\\\", \\\"gender\\\": 0, \\\"id\\\": 1753522, \\\"name\\\": \\\"Patrick Mel Hayes\\\", \\\"order\\\": 43}, {\\\"cast_id\\\": 73, \\\"character\\\": \\\"Airline Passenger\\\", \\\"credit_id\\\": \\\"589b4d01c3a3683aa30082b5\\\", \\\"gender\\\": 0, \\\"id\\\": 1753524, \\\"name\\\": \\\"Frankie Imbergamo\\\", \\\"order\\\": 44}, {\\\"cast_id\\\": 74, \\\"character\\\": \\\"Lawyer\\\", \\\"credit_id\\\": \\\"589b4d0d92514123870081da\\\", \\\"gender\\\": 0, \\\"id\\\": 1753525, \\\"name\\\": \\\"Haytham Kandil\\\", \\\"order\\\": 45}, {\\\"cast_id\\\": 75, \\\"character\\\": \\\"Lawyer at Publishing Company\\\", \\\"credit_id\\\": \\\"589b4d2bc3a3683aa30082cb\\\", \\\"gender\\\": 0, \\\"id\\\": 1588593, \\\"name\\\": \\\"Dan Marshall\\\", \\\"order\\\": 46}, {\\\"cast_id\\\": 76, \\\"character\\\": \\\"Businessman\\\", \\\"credit_id\\\": \\\"589b4d38925141031d00005d\\\", \\\"gender\\\": 0, \\\"id\\\": 1753527, \\\"name\\\": \\\"Robert Masiello\\\", \\\"order\\\": 47}, {\\\"cast_id\\\": 77, \\\"character\\\": \\\"Mail Clerk\\\", \\\"credit_id\\\": \\\"589b4d45c3a3683ab8007d6f\\\", \\\"gender\\\": 0, \\\"id\\\": 1753528, \\\"name\\\": \\\"Ben L. Mitchell\\\", \\\"order\\\": 48}, {\\\"cast_id\\\": 78, \\\"character\\\": \\\"Wedding Guest\\\", \\\"credit_id\\\": \\\"589b4d65925141237e0085bc\\\", \\\"gender\\\": 0, \\\"id\\\": 1753529, \\\"name\\\": \\\"Ron Murphy\\\", \\\"order\\\": 49}, {\\\"cast_id\\\": 79, \\\"character\\\": \\\"Stewardess\\\", \\\"credit_id\\\": \\\"589b4d72c3a3683aa6007cde\\\", \\\"gender\\\": 0, \\\"id\\\": 63231, \\\"name\\\": \\\"Niecy Nash\\\", \\\"order\\\": 50}, {\\\"cast_id\\\": 80, \\\"character\\\": \\\"Party Guest\\\", \\\"credit_id\\\": \\\"589b4d829251410390000050\\\", \\\"gender\\\": 0, \\\"id\\\": 1473459, \\\"name\\\": \\\"Thomas Olson\\\", \\\"order\\\": 51}, {\\\"cast_id\\\": 81, \\\"character\\\": \\\"Businesswoman\\\", \\\"credit_id\\\": \\\"589b4d8f92514123900081b0\\\", \\\"gender\\\": 1, \\\"id\\\": 1753532, \\\"name\\\": \\\"Nikki Preston\\\", \\\"order\\\": 52}, {\\\"cast_id\\\": 82, \\\"character\\\": \\\"Mail Room Clerk\\\", \\\"credit_id\\\": \\\"589b4e88c3a3683a9e007e6e\\\", \\\"gender\\\": 0, \\\"id\\\": 1753538, \\\"name\\\": \\\"Cory Rasmussen\\\", \\\"order\\\": 53}, {\\\"cast_id\\\": 83, \\\"character\\\": \\\"Reception Guest\\\", \\\"credit_id\\\": \\\"589b4ea292514103900000dc\\\", \\\"gender\\\": 1, \\\"id\\\": 1753539, \\\"name\\\": \\\"Donna Glee Reim\\\", \\\"order\\\": 54}, {\\\"cast_id\\\": 84, \\\"character\\\": \\\"INS Employee\\\", \\\"credit_id\\\": \\\"589b4ed7c3a3683a960088f1\\\", \\\"gender\\\": 1, \\\"id\\\": 1753540, \\\"name\\\": \\\"Annie Rohling\\\", \\\"order\\\": 55}, {\\\"cast_id\\\": 85, \\\"character\\\": \\\"Businessman\\\", \\\"credit_id\\\": \\\"589b4f4ec3a3683aa30083c7\\\", \\\"gender\\\": 0, \\\"id\\\": 1753541, \\\"name\\\": \\\"Darren Ross\\\", \\\"order\\\": 56}, {\\\"cast_id\\\": 86, \\\"character\\\": \\\"Ground Crewman\\\", \\\"credit_id\\\": \\\"589b4f6b9251412387008300\\\", \\\"gender\\\": 0, \\\"id\\\": 1753542, \\\"name\\\": \\\"Eric Ryan\\\", \\\"order\\\": 57}, {\\\"cast_id\\\": 87, \\\"character\\\": \\\"Bagel Guy\\\", \\\"credit_id\\\": \\\"589b4f79c3a3683aa30083e4\\\", \\\"gender\\\": 0, \\\"id\\\": 1753544, \\\"name\\\": \\\"Cory Scott\\\", \\\"order\\\": 58}, {\\\"cast_id\\\": 88, \\\"character\\\": \\\"New York Cab Driver\\\", \\\"credit_id\\\": \\\"589b4f88c3a3683a9e007efb\\\", \\\"gender\\\": 0, \\\"id\\\": 1753545, \\\"name\\\": \\\"Rich Skinner\\\", \\\"order\\\": 59}, {\\\"cast_id\\\": 89, \\\"character\\\": \\\"Immigrant at INS Office\\\", \\\"credit_id\\\": \\\"589b4fafc3a3683a9e007f16\\\", \\\"gender\\\": 1, \\\"id\\\": 928305, \\\"name\\\": \\\"Ylian Alfaro Snyder\\\", \\\"order\\\": 60}, {\\\"cast_id\\\": 90, \\\"character\\\": \\\"Secretary\\\", \\\"credit_id\\\": \\\"589b4fd8925141237b008922\\\", \\\"gender\\\": 1, \\\"id\\\": 1753546, \\\"name\\\": \\\"Vyvian B. Stevens\\\", \\\"order\\\": 61}, {\\\"cast_id\\\": 91, \\\"character\\\": \\\"Airline Passenger\\\", \\\"credit_id\\\": \\\"589b5151925141031d000292\\\", \\\"gender\\\": 0, \\\"id\\\": 1753548, \\\"name\\\": \\\"Jessica J. Stowes\\\", \\\"order\\\": 62}, {\\\"cast_id\\\": 92, \\\"character\\\": \\\"Indian Immigrant at INS Office\\\", \\\"credit_id\\\": \\\"589b5163c3a3683ab000887e\\\", \\\"gender\\\": 1, \\\"id\\\": 118641, \\\"name\\\": \\\"Stream\\\", \\\"order\\\": 63}, {\\\"cast_id\\\": 93, \\\"character\\\": \\\"Worker in Lobby\\\", \\\"credit_id\\\": \\\"589b51cf9251410c9f000014\\\", \\\"gender\\\": 0, \\\"id\\\": 1588592, \\\"name\\\": \\\"David Struffolino\\\", \\\"order\\\": 64}, {\\\"cast_id\\\": 94, \\\"character\\\": \\\"Pedestrian\\\", \\\"credit_id\\\": \\\"589b51dd9251410c9600001d\\\", \\\"gender\\\": 0, \\\"id\\\": 1401102, \\\"name\\\": \\\"Uzimann\\\", \\\"order\\\": 65}, {\\\"cast_id\\\": 95, \\\"character\\\": \\\"Party Guest\\\", \\\"credit_id\\\": \\\"589b51f29251410c9f00002a\\\", \\\"gender\\\": 0, \\\"id\\\": 50587, \\\"name\\\": \\\"Larry Vigus\\\", \\\"order\\\": 66}, {\\\"cast_id\\\": 96, \\\"character\\\": \\\"Wedding Guest\\\", \\\"credit_id\\\": \\\"589b52229251410ca8000043\\\", \\\"gender\\\": 0, \\\"id\\\": 1753549, \\\"name\\\": \\\"G.A. West\\\", \\\"order\\\": 67}, {\\\"cast_id\\\": 97, \\\"character\\\": \\\"Messenger\\\", \\\"credit_id\\\": \\\"589b522f9251410c93000049\\\", \\\"gender\\\": 0, \\\"id\\\": 1753550, \\\"name\\\": \\\"Andrew C. Wiley\\\", \\\"order\\\": 68}, {\\\"cast_id\\\": 98, \\\"character\\\": \\\"Office Worker\\\", \\\"credit_id\\\": \\\"589b523c9251410c9300005a\\\", \\\"gender\\\": 0, \\\"id\\\": 1753551, \\\"name\\\": \\\"Darryl Wooten\\\", \\\"order\\\": 69}, {\\\"cast_id\\\": 99, \\\"character\\\": \\\"Businessman\\\", \\\"credit_id\\\": \\\"589b5267c3a3680c6b00004b\\\", \\\"gender\\\": 0, \\\"id\\\": 1753552, \\\"name\\\": \\\"Adam Zalt\\\", \\\"order\\\": 70}]\",\n          \"[{\\\"cast_id\\\": 3, \\\"character\\\": \\\"Jenny Mellor\\\", \\\"credit_id\\\": \\\"52fe44a4c3a368484e02e853\\\", \\\"gender\\\": 1, \\\"id\\\": 36662, \\\"name\\\": \\\"Carey Mulligan\\\", \\\"order\\\": 0}, {\\\"cast_id\\\": 4, \\\"character\\\": \\\"Miss Stubbs\\\", \\\"credit_id\\\": \\\"52fe44a4c3a368484e02e857\\\", \\\"gender\\\": 1, \\\"id\\\": 11616, \\\"name\\\": \\\"Olivia Williams\\\", \\\"order\\\": 1}, {\\\"cast_id\\\": 7, \\\"character\\\": \\\"David Goldman\\\", \\\"credit_id\\\": \\\"52fe44a4c3a368484e02e863\\\", \\\"gender\\\": 2, \\\"id\\\": 133, \\\"name\\\": \\\"Peter Sarsgaard\\\", \\\"order\\\": 2}, {\\\"cast_id\\\": 5, \\\"character\\\": \\\"Jack Mellor\\\", \\\"credit_id\\\": \\\"52fe44a4c3a368484e02e85b\\\", \\\"gender\\\": 2, \\\"id\\\": 658, \\\"name\\\": \\\"Alfred Molina\\\", \\\"order\\\": 3}, {\\\"cast_id\\\": 6, \\\"character\\\": \\\"Majorie\\\", \\\"credit_id\\\": \\\"52fe44a4c3a368484e02e85f\\\", \\\"gender\\\": 1, \\\"id\\\": 2617, \\\"name\\\": \\\"Cara Seymour\\\", \\\"order\\\": 4}, {\\\"cast_id\\\": 8, \\\"character\\\": \\\"Danny\\\", \\\"credit_id\\\": \\\"52fe44a4c3a368484e02e867\\\", \\\"gender\\\": 2, \\\"id\\\": 55470, \\\"name\\\": \\\"Dominic Cooper\\\", \\\"order\\\": 5}, {\\\"cast_id\\\": 9, \\\"character\\\": \\\"Helen\\\", \\\"credit_id\\\": \\\"52fe44a4c3a368484e02e86b\\\", \\\"gender\\\": 1, \\\"id\\\": 10882, \\\"name\\\": \\\"Rosamund Pike\\\", \\\"order\\\": 6}, {\\\"cast_id\\\": 11, \\\"character\\\": \\\"Sarah Goldman\\\", \\\"credit_id\\\": \\\"52fe44a4c3a368484e02e873\\\", \\\"gender\\\": 1, \\\"id\\\": 39658, \\\"name\\\": \\\"Sally Hawkins\\\", \\\"order\\\": 7}, {\\\"cast_id\\\": 10, \\\"character\\\": \\\"Hattie\\\", \\\"credit_id\\\": \\\"52fe44a4c3a368484e02e86f\\\", \\\"gender\\\": 1, \\\"id\\\": 235837, \\\"name\\\": \\\"Amanda Fairbank-Hynes\\\", \\\"order\\\": 8}, {\\\"cast_id\\\": 12, \\\"character\\\": \\\"Small Boy #1\\\", \\\"credit_id\\\": \\\"52fe44a4c3a368484e02e877\\\", \\\"gender\\\": 0, \\\"id\\\": 568374, \\\"name\\\": \\\"William Melling\\\", \\\"order\\\": 9}, {\\\"cast_id\\\": 13, \\\"character\\\": \\\"Small Boy #2\\\", \\\"credit_id\\\": \\\"52fe44a4c3a368484e02e87b\\\", \\\"gender\\\": 0, \\\"id\\\": 1205266, \\\"name\\\": \\\"Connor Catchpole\\\", \\\"order\\\": 10}, {\\\"cast_id\\\": 14, \\\"character\\\": \\\"Graham\\\", \\\"credit_id\\\": \\\"52fe44a4c3a368484e02e87f\\\", \\\"gender\\\": 2, \\\"id\\\": 213394, \\\"name\\\": \\\"Matthew Beard\\\", \\\"order\\\": 11}, {\\\"cast_id\\\": 15, \\\"character\\\": \\\"Tina\\\", \\\"credit_id\\\": \\\"52fe44a4c3a368484e02e883\\\", \\\"gender\\\": 1, \\\"id\\\": 220290, \\\"name\\\": \\\"Ellie Kendrick\\\", \\\"order\\\": 12}, {\\\"cast_id\\\": 19, \\\"character\\\": \\\"Headmistress\\\", \\\"credit_id\\\": \\\"52fe44a4c3a368484e02e893\\\", \\\"gender\\\": 1, \\\"id\\\": 7056, \\\"name\\\": \\\"Emma Thompson\\\", \\\"order\\\": 13}, {\\\"cast_id\\\": 31, \\\"character\\\": \\\"Student\\\", \\\"credit_id\\\": \\\"52fe44a4c3a368484e02e8c3\\\", \\\"gender\\\": 0, \\\"id\\\": 1205278, \\\"name\\\": \\\"James Norton\\\", \\\"order\\\": 14}, {\\\"cast_id\\\": 16, \\\"character\\\": \\\"Auctioneer\\\", \\\"credit_id\\\": \\\"52fe44a4c3a368484e02e887\\\", \\\"gender\\\": 0, \\\"id\\\": 1205267, \\\"name\\\": \\\"Nick Sampson\\\", \\\"order\\\": 15}, {\\\"cast_id\\\": 18, \\\"character\\\": \\\"Small Girl\\\", \\\"credit_id\\\": \\\"52fe44a4c3a368484e02e88f\\\", \\\"gender\\\": 0, \\\"id\\\": 1205268, \\\"name\\\": \\\"Bel Parker\\\", \\\"order\\\": 17}, {\\\"cast_id\\\": 20, \\\"character\\\": \\\"Rachman\\\", \\\"credit_id\\\": \\\"52fe44a4c3a368484e02e897\\\", \\\"gender\\\": 0, \\\"id\\\": 59091, \\\"name\\\": \\\"Luis Soto\\\", \\\"order\\\": 18}, {\\\"cast_id\\\": 21, \\\"character\\\": \\\"Shakespeare Girl #1\\\", \\\"credit_id\\\": \\\"52fe44a4c3a368484e02e89b\\\", \\\"gender\\\": 0, \\\"id\\\": 1205269, \\\"name\\\": \\\"Olenka Wrzesniewski\\\", \\\"order\\\": 19}, {\\\"cast_id\\\": 22, \\\"character\\\": \\\"Shakespeare Girl #2\\\", \\\"credit_id\\\": \\\"52fe44a4c3a368484e02e89f\\\", \\\"gender\\\": 0, \\\"id\\\": 1205270, \\\"name\\\": \\\"Bryony Wadsworth\\\", \\\"order\\\": 20}, {\\\"cast_id\\\": 23, \\\"character\\\": \\\"Petrol Attendant\\\", \\\"credit_id\\\": \\\"52fe44a4c3a368484e02e8a3\\\", \\\"gender\\\": 0, \\\"id\\\": 1205271, \\\"name\\\": \\\"Ashley Taylor-Rhys\\\", \\\"order\\\": 21}, {\\\"cast_id\\\": 24, \\\"character\\\": \\\"Nightclub Singer\\\", \\\"credit_id\\\": \\\"52fe44a4c3a368484e02e8a7\\\", \\\"gender\\\": 0, \\\"id\\\": 1205272, \\\"name\\\": \\\"Beth Rowley\\\", \\\"order\\\": 22}, {\\\"cast_id\\\": 25, \\\"character\\\": \\\"Nightclub Band\\\", \\\"credit_id\\\": \\\"52fe44a4c3a368484e02e8ab\\\", \\\"gender\\\": 0, \\\"id\\\": 1205273, \\\"name\\\": \\\"Ben Castle\\\", \\\"order\\\": 23}, {\\\"cast_id\\\": 26, \\\"character\\\": \\\"Nightclub Band\\\", \\\"credit_id\\\": \\\"52fe44a4c3a368484e02e8af\\\", \\\"gender\\\": 0, \\\"id\\\": 177024, \\\"name\\\": \\\"Mark Edwards\\\", \\\"order\\\": 24}, {\\\"cast_id\\\": 27, \\\"character\\\": \\\"Nightclub Band\\\", \\\"credit_id\\\": \\\"52fe44a4c3a368484e02e8b3\\\", \\\"gender\\\": 0, \\\"id\\\": 1205274, \\\"name\\\": \\\"Tom Rees-Roberts\\\", \\\"order\\\": 25}, {\\\"cast_id\\\": 28, \\\"character\\\": \\\"Nightclub Band\\\", \\\"credit_id\\\": \\\"52fe44a4c3a368484e02e8b7\\\", \\\"gender\\\": 0, \\\"id\\\": 1205275, \\\"name\\\": \\\"Arne Somogyi\\\", \\\"order\\\": 26}, {\\\"cast_id\\\": 29, \\\"character\\\": \\\"Nightclub Band\\\", \\\"credit_id\\\": \\\"52fe44a4c3a368484e02e8bb\\\", \\\"gender\\\": 0, \\\"id\\\": 1205276, \\\"name\\\": \\\"Paul Pilot\\\", \\\"order\\\": 27}, {\\\"cast_id\\\": 30, \\\"character\\\": \\\"Nightclub Band\\\", \\\"credit_id\\\": \\\"52fe44a4c3a368484e02e8bf\\\", \\\"gender\\\": 0, \\\"id\\\": 1205277, \\\"name\\\": \\\"Phil Wilkinson\\\", \\\"order\\\": 28}, {\\\"cast_id\\\": 40, \\\"character\\\": \\\"Latin Teacher\\\", \\\"credit_id\\\": \\\"598dc109c3a36875a2012333\\\", \\\"gender\\\": 1, \\\"id\\\": 1231952, \\\"name\\\": \\\"Kate Duch\\\\u00eane\\\", \\\"order\\\": 32}]\"\n        ],\n        \"semantic_type\": \"\",\n        \"description\": \"\"\n      }\n    },\n    {\n      \"column\": \"crew\",\n      \"properties\": {\n        \"dtype\": \"string\",\n        \"num_unique_values\": 3266,\n        \"samples\": [\n          \"[{\\\"credit_id\\\": \\\"52fe4c59c3a36847f8229a57\\\", \\\"department\\\": \\\"Directing\\\", \\\"gender\\\": 2, \\\"id\\\": 58547, \\\"job\\\": \\\"Director\\\", \\\"name\\\": \\\"Niall Johnson\\\"}]\",\n          \"[{\\\"credit_id\\\": \\\"5635d9db925141284c019df7\\\", \\\"department\\\": \\\"Editing\\\", \\\"gender\\\": 1, \\\"id\\\": 1217, \\\"job\\\": \\\"Editor\\\", \\\"name\\\": \\\"Priscilla Nedd-Friendly\\\"}, {\\\"credit_id\\\": \\\"5635d9ff925141284c019dfd\\\", \\\"department\\\": \\\"Art\\\", \\\"gender\\\": 2, \\\"id\\\": 5508, \\\"job\\\": \\\"Production Design\\\", \\\"name\\\": \\\"Nelson Coates\\\"}, {\\\"credit_id\\\": \\\"52fe476d9251416c75098e3d\\\", \\\"department\\\": \\\"Directing\\\", \\\"gender\\\": 1, \\\"id\\\": 29214, \\\"job\\\": \\\"Director\\\", \\\"name\\\": \\\"Anne Fletcher\\\"}, {\\\"credit_id\\\": \\\"5635e62a9251413b4600bf45\\\", \\\"department\\\": \\\"Production\\\", \\\"gender\\\": 2, \\\"id\\\": 15345, \\\"job\\\": \\\"Executive Producer\\\", \\\"name\\\": \\\"Alex Kurtzman\\\"}, {\\\"credit_id\\\": \\\"5635e616c3a3681b5c01bbb0\\\", \\\"department\\\": \\\"Production\\\", \\\"gender\\\": 2, \\\"id\\\": 15346, \\\"job\\\": \\\"Executive Producer\\\", \\\"name\\\": \\\"Roberto Orci\\\"}, {\\\"credit_id\\\": \\\"5635d9449251413b4600bdd7\\\", \\\"department\\\": \\\"Sound\\\", \\\"gender\\\": 2, \\\"id\\\": 40384, \\\"job\\\": \\\"Original Music Composer\\\", \\\"name\\\": \\\"Aaron Zigman\\\"}, {\\\"credit_id\\\": \\\"5635d9eac3a3681b5401a3a1\\\", \\\"department\\\": \\\"Camera\\\", \\\"gender\\\": 2, \\\"id\\\": 16425, \\\"job\\\": \\\"Director of Photography\\\", \\\"name\\\": \\\"Oliver Stapleton\\\"}, {\\\"credit_id\\\": \\\"5635e644925141616700bd32\\\", \\\"department\\\": \\\"Production\\\", \\\"gender\\\": 1, \\\"id\\\": 18277, \\\"job\\\": \\\"Executive Producer\\\", \\\"name\\\": \\\"Sandra Bullock\\\"}, {\\\"credit_id\\\": \\\"560c3731c3a36868170065a8\\\", \\\"department\\\": \\\"Crew\\\", \\\"gender\\\": 0, \\\"id\\\": 29216, \\\"job\\\": \\\"Associate Choreographer\\\", \\\"name\\\": \\\"Zachary Woodlee\\\"}, {\\\"credit_id\\\": \\\"52fe476d9251416c75098e8b\\\", \\\"department\\\": \\\"Production\\\", \\\"gender\\\": 2, \\\"id\\\": 31710, \\\"job\\\": \\\"Producer\\\", \\\"name\\\": \\\"David Hoberman\\\"}, {\\\"credit_id\\\": \\\"5635da2892514129fe00c0be\\\", \\\"department\\\": \\\"Art\\\", \\\"gender\\\": 1, \\\"id\\\": 38021, \\\"job\\\": \\\"Set Decoration\\\", \\\"name\\\": \\\"Denise Pizzini\\\"}, {\\\"credit_id\\\": \\\"52fe476d9251416c75098e85\\\", \\\"department\\\": \\\"Costume & Make-Up\\\", \\\"gender\\\": 1, \\\"id\\\": 50462, \\\"job\\\": \\\"Costume Design\\\", \\\"name\\\": \\\"Catherine Marie Thomas\\\"}, {\\\"credit_id\\\": \\\"5635d91f9251413b4600bdd0\\\", \\\"department\\\": \\\"Sound\\\", \\\"gender\\\": 0, \\\"id\\\": 54514, \\\"job\\\": \\\"Music Supervisor\\\", \\\"name\\\": \\\"Buck Damon\\\"}, {\\\"credit_id\\\": \\\"5635e658925141285701a0b5\\\", \\\"department\\\": \\\"Production\\\", \\\"gender\\\": 1, \\\"id\\\": 57634, \\\"job\\\": \\\"Executive Producer\\\", \\\"name\\\": \\\"Mary McLaglen\\\"}, {\\\"credit_id\\\": \\\"5635e696925141285701a0bb\\\", \\\"department\\\": \\\"Production\\\", \\\"gender\\\": 1, \\\"id\\\": 57634, \\\"job\\\": \\\"Unit Production Manager\\\", \\\"name\\\": \\\"Mary McLaglen\\\"}, {\\\"credit_id\\\": \\\"5635e74d925141284c019fb5\\\", \\\"department\\\": \\\"Art\\\", \\\"gender\\\": 2, \\\"id\\\": 59838, \\\"job\\\": \\\"Art Direction\\\", \\\"name\\\": \\\"Scott Meehan\\\"}, {\\\"credit_id\\\": \\\"52fe476d9251416c75098e91\\\", \\\"department\\\": \\\"Production\\\", \\\"gender\\\": 2, \\\"id\\\": 62758, \\\"job\\\": \\\"Producer\\\", \\\"name\\\": \\\"Todd Lieberman\\\"}, {\\\"credit_id\\\": \\\"52fe476d9251416c75098e43\\\", \\\"department\\\": \\\"Writing\\\", \\\"gender\\\": 0, \\\"id\\\": 84435, \\\"job\\\": \\\"Writer\\\", \\\"name\\\": \\\"Pete Chiarelli\\\"}, {\\\"credit_id\\\": \\\"5635e6bfc3a3681b520199d3\\\", \\\"department\\\": \\\"Directing\\\", \\\"gender\\\": 0, \\\"id\\\": 1238788, \\\"job\\\": \\\"Assistant Director\\\", \\\"name\\\": \\\"Rich Sickler\\\"}, {\\\"credit_id\\\": \\\"5635da429251414ad801853b\\\", \\\"department\\\": \\\"Costume & Make-Up\\\", \\\"gender\\\": 0, \\\"id\\\": 1316529, \\\"job\\\": \\\"Makeup Department Head\\\", \\\"name\\\": \\\"Ann Masterson\\\"}, {\\\"credit_id\\\": \\\"5635d9aac3a3681b4b018353\\\", \\\"department\\\": \\\"Sound\\\", \\\"gender\\\": 0, \\\"id\\\": 1368884, \\\"job\\\": \\\"Music Editor\\\", \\\"name\\\": \\\"Melissa Muik\\\"}, {\\\"credit_id\\\": \\\"5635d964c3a3681b5e018e7a\\\", \\\"department\\\": \\\"Directing\\\", \\\"gender\\\": 0, \\\"id\\\": 1484538, \\\"job\\\": \\\"Script Supervisor\\\", \\\"name\\\": \\\"Susanna David\\\"}, {\\\"credit_id\\\": \\\"5635e6dc92514129fe00c23b\\\", \\\"department\\\": \\\"Directing\\\", \\\"gender\\\": 0, \\\"id\\\": 1530090, \\\"job\\\": \\\"Assistant Director\\\", \\\"name\\\": \\\"Rosemary C. Cremona\\\"}, {\\\"credit_id\\\": \\\"5635e721c3a3681b5901977e\\\", \\\"department\\\": \\\"Crew\\\", \\\"gender\\\": 2, \\\"id\\\": 1530091, \\\"job\\\": \\\"Stunt Coordinator\\\", \\\"name\\\": \\\"Mike Massa\\\"}, {\\\"credit_id\\\": \\\"5635e824c3a3681b5e01904a\\\", \\\"department\\\": \\\"Costume & Make-Up\\\", \\\"gender\\\": 0, \\\"id\\\": 1530092, \\\"job\\\": \\\"Costume Supervisor\\\", \\\"name\\\": \\\"Jodi Baldwin\\\"}, {\\\"credit_id\\\": \\\"5635e904c3a3681b4b018540\\\", \\\"department\\\": \\\"Editing\\\", \\\"gender\\\": 0, \\\"id\\\": 1530094, \\\"job\\\": \\\"Assistant Editor\\\", \\\"name\\\": \\\"Morgan Gjovik\\\"}]\",\n          \"[{\\\"credit_id\\\": \\\"52fe43e09251416c75021903\\\", \\\"department\\\": \\\"Directing\\\", \\\"gender\\\": 2, \\\"id\\\": 323, \\\"job\\\": \\\"Director\\\", \\\"name\\\": \\\"Curtis Hanson\\\"}, {\\\"credit_id\\\": \\\"52fe43e09251416c75021915\\\", \\\"department\\\": \\\"Production\\\", \\\"gender\\\": 2, \\\"id\\\": 323, \\\"job\\\": \\\"Producer\\\", \\\"name\\\": \\\"Curtis Hanson\\\"}, {\\\"credit_id\\\": \\\"52fe43e09251416c7502191b\\\", \\\"department\\\": \\\"Production\\\", \\\"gender\\\": 2, \\\"id\\\": 2997, \\\"job\\\": \\\"Producer\\\", \\\"name\\\": \\\"Scott Rudin\\\"}, {\\\"credit_id\\\": \\\"52fe43e09251416c7502192d\\\", \\\"department\\\": \\\"Editing\\\", \\\"gender\\\": 1, \\\"id\\\": 6453, \\\"job\\\": \\\"Editor\\\", \\\"name\\\": \\\"Dede Allen\\\"}, {\\\"credit_id\\\": \\\"52fe43e09251416c75021921\\\", \\\"department\\\": \\\"Sound\\\", \\\"gender\\\": 2, \\\"id\\\": 19155, \\\"job\\\": \\\"Original Music Composer\\\", \\\"name\\\": \\\"Christopher Young\\\"}, {\\\"credit_id\\\": \\\"52fe43e09251416c7502190f\\\", \\\"department\\\": \\\"Writing\\\", \\\"gender\\\": 2, \\\"id\\\": 10967, \\\"job\\\": \\\"Screenplay\\\", \\\"name\\\": \\\"Steve Kloves\\\"}, {\\\"credit_id\\\": \\\"52fe43e09251416c75021927\\\", \\\"department\\\": \\\"Camera\\\", \\\"gender\\\": 2, \\\"id\\\": 11099, \\\"job\\\": \\\"Director of Photography\\\", \\\"name\\\": \\\"Dante Spinotti\\\"}, {\\\"credit_id\\\": \\\"52fe43e09251416c75021909\\\", \\\"department\\\": \\\"Writing\\\", \\\"gender\\\": 2, \\\"id\\\": 67758, \\\"job\\\": \\\"Novel\\\", \\\"name\\\": \\\"Michael Chabon\\\"}]\"\n        ],\n        \"semantic_type\": \"\",\n        \"description\": \"\"\n      }\n    }\n  ]\n}"
            }
          },
          "metadata": {},
          "execution_count": 8
        }
      ]
    },
    {
      "cell_type": "markdown",
      "source": [
        "# EDA - Exploring the Dataset\n",
        "EDA involves visually and statistically exploring a dataset to uncover patterns, trends, and relationships.\n"
      ],
      "metadata": {
        "id": "Gm5nxww1lSWz"
      }
    },
    {
      "cell_type": "markdown",
      "source": [
        "Which genres are the most popular in 2010-2015?"
      ],
      "metadata": {
        "id": "-mxYrE2AAceW"
      }
    },
    {
      "cell_type": "code",
      "source": [
        "import pandas as pd\n",
        "\n",
        "# Filter movies released between 2000 and 2010\n",
        "movies_2000_2010 = movies_with_credits[(movies_with_credits['release_date'].dt.year >= 2000) & (movies_with_credits['release_date'].dt.year <= 2010)]\n",
        "\n",
        "# Check if the filtering returned any rows\n",
        "print(\"Number of movies from 2000 to 2010:\", len(movies_2000_2010))\n",
        "\n",
        "# Explode the genres\n",
        "movies_2000_2010['genres'] = movies_2000_2010['genres'].apply(eval)  # Convert string representation of lists to actual lists\n",
        "movies_exploded = movies_2000_2010.explode('genres')\n",
        "\n",
        "# Check if the genres exploded correctly\n",
        "print(\"Number of rows after exploding genres:\", len(movies_exploded))\n",
        "\n",
        "# Extract genre names and calculate the popularity of each genre\n",
        "movies_exploded['genre_name'] = movies_exploded['genres'].apply(lambda x: x['name'] if isinstance(x, dict) else None)\n",
        "genre_popularity = movies_exploded.groupby('genre_name')['popularity'].mean().sort_values(ascending=False)\n",
        "\n",
        "# Display the most popular genres\n",
        "print(genre_popularity)\n",
        "\n"
      ],
      "metadata": {
        "colab": {
          "base_uri": "https://localhost:8080/"
        },
        "id": "HN4DdvkylZws",
        "outputId": "f0d63a25-2c11-45a7-8d0a-5702136f859d"
      },
      "execution_count": 14,
      "outputs": [
        {
          "output_type": "stream",
          "name": "stdout",
          "text": [
            "Number of movies from 2000 to 2010: 1527\n",
            "Number of rows after exploding genres: 3770\n",
            "genre_name\n",
            "Fantasy            20.726038\n",
            "Science Fiction    19.745581\n",
            "Mystery            17.886205\n",
            "Adventure          17.755459\n",
            "Thriller           17.239865\n",
            "Horror             17.153572\n",
            "Animation          17.016013\n",
            "War                16.445491\n",
            "Crime              16.139673\n",
            "Action             15.467007\n",
            "Western            15.159951\n",
            "Romance            13.524714\n",
            "Drama              13.077971\n",
            "Family             12.560917\n",
            "Music              12.338225\n",
            "Comedy             12.308109\n",
            "History            10.781732\n",
            "TV Movie            8.832466\n",
            "Documentary         4.495073\n",
            "Foreign             0.886666\n",
            "Name: popularity, dtype: float64\n"
          ]
        },
        {
          "output_type": "stream",
          "name": "stderr",
          "text": [
            "<ipython-input-14-16a0c0656bce>:10: SettingWithCopyWarning: \n",
            "A value is trying to be set on a copy of a slice from a DataFrame.\n",
            "Try using .loc[row_indexer,col_indexer] = value instead\n",
            "\n",
            "See the caveats in the documentation: https://pandas.pydata.org/pandas-docs/stable/user_guide/indexing.html#returning-a-view-versus-a-copy\n",
            "  movies_2000_2010['genres'] = movies_2000_2010['genres'].apply(eval)  # Convert string representation of lists to actual lists\n"
          ]
        }
      ]
    },
    {
      "cell_type": "code",
      "source": [
        "import pandas as pd\n",
        "import matplotlib.pyplot as plt\n",
        "import seaborn as sns\n",
        "\n",
        "# Plot the genre popularity\n",
        "plt.figure(figsize=(10, 6))\n",
        "sns.barplot(x=genre_popularity.values, y=genre_popularity.index, hue=genre_popularity.index, palette=\"viridis\", dodge=False, legend=False)\n",
        "plt.title('Average Popularity of Movie Genres (2000-2010)')\n",
        "plt.xlabel('Average Popularity')\n",
        "plt.ylabel('Genre')\n",
        "plt.show()"
      ],
      "metadata": {
        "colab": {
          "base_uri": "https://localhost:8080/",
          "height": 564
        },
        "id": "7R86KjnRsP0B",
        "outputId": "7189048e-ec1e-41aa-f234-295b3047695f"
      },
      "execution_count": 16,
      "outputs": [
        {
          "output_type": "display_data",
          "data": {
            "text/plain": [
              "<Figure size 1000x600 with 1 Axes>"
            ],
            "image/png": "[encoded data removed]"
          },
          "metadata": {}
        }
      ]
    },
    {
      "cell_type": "markdown",
      "source": [
        "# Insights\n",
        "The most popular genres in the 2000-2010 period are Fantasy, Science Fiction, Mystery, Adventure, and Thriller. These genres tend to feature high-budget, large-scale productions with wide audiences.\n",
        "\n",
        "Fantasy and Science Fiction top the list, which may be attributed to popular movie franchises released during this time, such as Harry Potter, Avatar, and The Lord of the Rings.\n",
        "\n",
        "Drama and Comedy, despite being common genres, have lower average popularity scores compared to genres like Fantasy and Thriller. This may reflect audience preferences for more action-packed, visually driven genres during this time.\n",
        "\n",
        "Genres like Western, War, and History hold middle positions, while Documentary and Foreign films show very low popularity. This suggests that while these genres exist, they cater to more niche audiences."
      ],
      "metadata": {
        "id": "jFnst7VNl-xa"
      }
    },
    {
      "cell_type": "markdown",
      "source": [
        "Most common cast over the years"
      ],
      "metadata": {
        "id": "b5UG6gVpzSIh"
      }
    },
    {
      "cell_type": "code",
      "source": [
        "import ast\n",
        "import pandas as pd\n",
        "\n",
        "def convert_cast(x):\n",
        "    try:\n",
        "        return ast.literal_eval(x) if isinstance(x, str) else []\n",
        "    except (ValueError, SyntaxError):\n",
        "        return []  # Return an empty list if the conversion fails\n",
        "\n",
        "# Step 1: Apply safe conversion on 'cast' column\n",
        "movies_with_credits['cast'] = movies_with_credits['cast'].apply(convert_cast)\n",
        "\n",
        "# Step 2: Explode the 'cast' column\n",
        "movies_exploded_cast = movies_with_credits.explode('cast')\n",
        "\n",
        "# Step 3: Extract cast member names\n",
        "movies_exploded_cast['cast_name'] = movies_exploded_cast['cast'].apply(lambda x: x['name'] if isinstance(x, dict) else None)\n",
        "\n",
        "# Step 4: Group by cast member names and count their occurrences\n",
        "common_cast = movies_exploded_cast['cast_name'].value_counts()\n",
        "\n",
        "# Display the top 10 most common cast members\n",
        "print(common_cast.head(10))\n"
      ],
      "metadata": {
        "colab": {
          "base_uri": "https://localhost:8080/"
        },
        "id": "MGlA_8AQ9VJE",
        "outputId": "1a3da9c8-05b5-4953-929b-a2f56cac1a49"
      },
      "execution_count": 22,
      "outputs": [
        {
          "output_type": "stream",
          "name": "stdout",
          "text": [
            "cast_name\n",
            "Robert De Niro       41\n",
            "Samuel L. Jackson    31\n",
            "Willem Dafoe         27\n",
            "Susan Sarandon       26\n",
            "Forest Whitaker      25\n",
            "Jim Broadbent        25\n",
            "Bill Murray          25\n",
            "John Cusack          24\n",
            "Sigourney Weaver     24\n",
            "Keith David          24\n",
            "Name: count, dtype: int64\n"
          ]
        }
      ]
    },
    {
      "cell_type": "code",
      "source": [
        "import matplotlib.pyplot as plt\n",
        "import seaborn as sns\n",
        "import pandas as pd\n",
        "\n",
        "# Create the data as a dictionary\n",
        "data = {\n",
        "    'Actor': ['Robert De Niro', 'Samuel L. Jackson', 'Willem Dafoe', 'Susan Sarandon',\n",
        "              'Forest Whitaker', 'Jim Broadbent', 'Bill Murray', 'John Cusack',\n",
        "              'Sigourney Weaver', 'Keith David'],\n",
        "    'Movie Count': [41, 31, 27, 26, 25, 25, 25, 24, 24, 24]\n",
        "}\n",
        "\n",
        "# Convert the data to a DataFrame\n",
        "df = pd.DataFrame(data)\n",
        "\n",
        "# Create a bar plot\n",
        "plt.figure(figsize=(10, 6))\n",
        "sns.barplot(x='Actor', y='Movie Count', data=df, palette='Blues_d')\n",
        "\n",
        "# Customize the plot\n",
        "plt.title('Number of Movies Each Actor Has Appeared In', fontsize=16)\n",
        "plt.xlabel('Actor', fontsize=12)\n",
        "plt.ylabel('Movie Count', fontsize=12)\n",
        "plt.xticks(rotation=45)\n",
        "plt.show()\n",
        "\n"
      ],
      "metadata": {
        "colab": {
          "base_uri": "https://localhost:8080/",
          "height": 763
        },
        "id": "kUiiyxzfBZgs",
        "outputId": "89abfa53-18b2-4eeb-ecb6-7746cecd50ce"
      },
      "execution_count": 25,
      "outputs": [
        {
          "output_type": "stream",
          "name": "stderr",
          "text": [
            "<ipython-input-25-b650914649c6>:18: FutureWarning: \n",
            "\n",
            "Passing `palette` without assigning `hue` is deprecated and will be removed in v0.14.0. Assign the `x` variable to `hue` and set `legend=False` for the same effect.\n",
            "\n",
            "  sns.barplot(x='Actor', y='Movie Count', data=df, palette='Blues_d')\n"
          ]
        },
        {
          "output_type": "display_data",
          "data": {
            "text/plain": [
              "<Figure size 1000x600 with 1 Axes>"
            ],
            "image/png": "[encoded data removed]"
          },
          "metadata": {}
        }
      ]
    },
    {
      "cell_type": "markdown",
      "source": [
        "# Insights\n",
        "This list highlights veteran actors with extensive film careers, led by Robert De Niro (41 films) and Samuel L. Jackson (31 films). Willem Dafoe, Susan Sarandon, and others follow closely, with each actor known for their versatility across genres. Despite a male-dominated list, actresses like Sarandon and Sigourney Weaver have made significant contributions to cinema."
      ],
      "metadata": {
        "id": "18m9cWrmCrJd"
      }
    },
    {
      "cell_type": "markdown",
      "source": [
        "Which were the top 10 movies that were released in 2015?"
      ],
      "metadata": {
        "id": "JL6uXrgewAVG"
      }
    },
    {
      "cell_type": "code",
      "source": [
        "import pandas as pd\n",
        "\n",
        "# Step 1: Convert the 'release_date' column to datetime format\n",
        "movies_with_credits['release_date'] = pd.to_datetime(movies_with_credits['release_date'])\n",
        "\n",
        "# Step 2: Filter movies released in 2015\n",
        "filtered_movies_2015 = movies_with_credits[\n",
        "    (movies_with_credits['release_date'] >= '2015-01-01') &\n",
        "    (movies_with_credits['release_date'] <= '2015-12-31')\n",
        "]\n",
        "\n",
        "# Step 3: Sort the filtered movies by release date\n",
        "sorted_movies_2015 = filtered_movies_2015.sort_values(by='release_date')\n",
        "\n",
        "# Step 4: Select the top 10 movies\n",
        "top_10_movies_2015 = sorted_movies_2015.head(10)\n",
        "\n",
        "# Step 5: Extract the title and year of release\n",
        "top_10_movies_2015['year'] = top_10_movies_2015['release_date'].dt.year\n",
        "top_10_movies_2015 = top_10_movies_2015[['title', 'year']]\n",
        "\n",
        "# Display the top 10 movies\n",
        "print(top_10_movies_2015)\n"
      ],
      "metadata": {
        "colab": {
          "base_uri": "https://localhost:8080/"
        },
        "id": "kX4NqUpU0m-X",
        "outputId": "b9d6b5d8-36a3-424d-ad31-927997732e22"
      },
      "execution_count": 47,
      "outputs": [
        {
          "output_type": "stream",
          "name": "stdout",
          "text": [
            "                   title  year\n",
            "4681        Reality Show  2015\n",
            "4068           Sharkskin  2015\n",
            "4659          Horse Camp  2015\n",
            "1674           Wild Card  2015\n",
            "4783            Backmask  2015\n",
            "2752          Ex Machina  2015\n",
            "3746   The Boy Next Door  2015\n",
            "3572  The Lazarus Effect  2015\n",
            "2865     Project Almanac  2015\n",
            "4074          It Follows  2015\n"
          ]
        },
        {
          "output_type": "stream",
          "name": "stderr",
          "text": [
            "<ipython-input-47-2905ca94a6b6>:19: SettingWithCopyWarning: \n",
            "A value is trying to be set on a copy of a slice from a DataFrame.\n",
            "Try using .loc[row_indexer,col_indexer] = value instead\n",
            "\n",
            "See the caveats in the documentation: https://pandas.pydata.org/pandas-docs/stable/user_guide/indexing.html#returning-a-view-versus-a-copy\n",
            "  top_10_movies_2015['year'] = top_10_movies_2015['release_date'].dt.year\n"
          ]
        }
      ]
    },
    {
      "cell_type": "markdown",
      "source": [
        "# Insights\n",
        "Diverse Release Dates: The movies were released throughout the year, from January to December, indicating a consistent production and release schedule.\n",
        "\n",
        "Early and Late Releases: There are movies released at the beginning of the year (e.g., January 1st) and at the end of the year (e.g., December 12th), which might suggest strategic release timings to capture different audience segments.\n",
        "\n",
        "Mid-Year Peaks: Several movies were released around mid-year (e.g., May, June, July), which is often a popular time for movie releases due to summer holidays in many regions."
      ],
      "metadata": {
        "id": "2Sb6DaDe05-T"
      }
    },
    {
      "cell_type": "markdown",
      "source": [
        "Which movies were the highest grossing in revenue?"
      ],
      "metadata": {
        "id": "mpfntY5gwCDm"
      }
    },
    {
      "cell_type": "code",
      "source": [
        "import pandas as pd\n",
        "\n",
        "# Step 1: Ensure the 'revenue' column is numeric\n",
        "movies_with_credits['revenue'] = pd.to_numeric(movies_with_credits['revenue'], errors='coerce')\n",
        "\n",
        "# Step 2: Sort the DataFrame by the 'revenue' column in descending order\n",
        "highest_grossing_movies = movies.sort_values(by='revenue', ascending=False)\n",
        "\n",
        "# Step 3: Display the top 10 highest-grossing movies\n",
        "top_10_highest_grossing = highest_grossing_movies[['title', 'revenue']].head(10)\n",
        "\n",
        "# Print the result\n",
        "print(top_10_highest_grossing)\n"
      ],
      "metadata": {
        "colab": {
          "base_uri": "https://localhost:8080/"
        },
        "id": "8xCc-WC5v8Nq",
        "outputId": "7573c1c6-993b-49dc-a516-509eff9655df"
      },
      "execution_count": 33,
      "outputs": [
        {
          "output_type": "stream",
          "name": "stdout",
          "text": [
            "                          title     revenue\n",
            "0                        Avatar  2787965087\n",
            "25                      Titanic  1845034188\n",
            "16                 The Avengers  1519557910\n",
            "28               Jurassic World  1513528810\n",
            "44                    Furious 7  1506249360\n",
            "7       Avengers: Age of Ultron  1405403694\n",
            "124                      Frozen  1274219009\n",
            "31                   Iron Man 3  1215439994\n",
            "546                     Minions  1156730962\n",
            "26   Captain America: Civil War  1153304495\n"
          ]
        }
      ]
    },
    {
      "cell_type": "code",
      "source": [
        "import matplotlib.pyplot as plt\n",
        "\n",
        "# Step 4: Plot a bar chart for the top 10 highest-grossing movies\n",
        "plt.figure(figsize=(10, 6))\n",
        "plt.barh(top_10_highest_grossing['title'], top_10_highest_grossing['revenue'], color='lightblue')\n",
        "plt.title('Top 10 Highest-Grossing Movies by Revenue', fontsize=16)\n",
        "plt.xlabel('Revenue (in billions)', fontsize=12)\n",
        "plt.ylabel('Movies', fontsize=12)\n",
        "plt.gca().invert_yaxis()  # Invert y-axis to have the highest-grossing movie on top\n",
        "plt.show()"
      ],
      "metadata": {
        "colab": {
          "base_uri": "https://localhost:8080/",
          "height": 547
        },
        "id": "UNv-PBsYrszd",
        "outputId": "33458eb9-40a8-4f33-eda0-154a9a2a554c"
      },
      "execution_count": 34,
      "outputs": [
        {
          "output_type": "display_data",
          "data": {
            "text/plain": [
              "<Figure size 1000x600 with 1 Axes>"
            ],
            "image/png": "[encoded data removed]"
          },
          "metadata": {}
        }
      ]
    },
    {
      "cell_type": "markdown",
      "source": [
        "# Insights\n",
        "Avatar, Titanic and the Avengers were the top 3 highest grossing movies with billions of dollars in revenue.\n",
        "This indicates that the fans of these movies showed up in large numbers to watch the movies as soon as they were released compared to other releases.\n"
      ],
      "metadata": {
        "id": "7dl5Lhvir9w0"
      }
    },
    {
      "cell_type": "markdown",
      "source": [
        "Which production companies produce the most movies?"
      ],
      "metadata": {
        "id": "q8VHibUk4VQ9"
      }
    },
    {
      "cell_type": "code",
      "source": [
        "import pandas as pd\n",
        "\n",
        "# Step 1: Convert the 'production_companies' column to a list of dictionaries if it's a string\n",
        "def safe_eval(val):\n",
        "    if isinstance(val, str):\n",
        "        return eval(val)\n",
        "    return val\n",
        "\n",
        "movies_with_credits['production_companies'] = movies_with_credits['production_companies'].apply(safe_eval)\n",
        "\n",
        "# Step 2: Explode the production companies to have one company per row\n",
        "movies_exploded = movies_with_credits.explode('production_companies')\n",
        "\n",
        "# Step 3: Extract the 'name' field of each production company\n",
        "movies_exploded['company_name'] = movies_exploded['production_companies'].apply(lambda x: x['name'] if isinstance(x, dict) else None)\n",
        "\n",
        "# Step 4: Count the occurrences of each production company\n",
        "company_counts = movies_exploded['company_name'].value_counts()\n",
        "\n",
        "# Display the top 10 production companies by the number of movies produced\n",
        "top_10_companies = company_counts.head(10)\n",
        "print(top_10_companies)\n",
        "\n",
        "\n"
      ],
      "metadata": {
        "colab": {
          "base_uri": "https://localhost:8080/"
        },
        "id": "AjLz9I3Fv-o6",
        "outputId": "1b76cb65-c6c8-47d7-8881-715d910b808f"
      },
      "execution_count": 38,
      "outputs": [
        {
          "output_type": "stream",
          "name": "stdout",
          "text": [
            "company_name\n",
            "Universal Pictures                        181\n",
            "Paramount Pictures                        175\n",
            "Warner Bros.                              163\n",
            "New Line Cinema                           130\n",
            "Twentieth Century Fox Film Corporation    119\n",
            "Columbia Pictures                         105\n",
            "Metro-Goldwyn-Mayer (MGM)                  92\n",
            "Miramax Films                              77\n",
            "Touchstone Pictures                        76\n",
            "United Artists                             61\n",
            "Name: count, dtype: int64\n"
          ]
        }
      ]
    },
    {
      "cell_type": "code",
      "source": [
        "import matplotlib.pyplot as plt\n",
        "\n",
        "# Data from your output\n",
        "companies = [\n",
        "    \"Universal Pictures\", \"Paramount Pictures\", \"Warner Bros.\", \"New Line Cinema\",\n",
        "    \"Twentieth Century Fox Film Corporation\", \"Columbia Pictures\",\n",
        "    \"Metro-Goldwyn-Mayer (MGM)\", \"Miramax Films\", \"Touchstone Pictures\", \"United Artists\"\n",
        "]\n",
        "movie_counts = [181, 175, 163, 130, 119, 105, 92, 77, 76, 61]\n",
        "\n",
        "# Create the bar plot\n",
        "plt.figure(figsize=(12, 8))\n",
        "plt.barh(companies, movie_counts, color='skyblue')\n",
        "plt.xlabel('Number of Movies Produced')\n",
        "plt.title('Top 10 Production Companies by Number of Movies Produced')\n",
        "plt.gca().invert_yaxis()  # Invert y-axis to have the highest count at the top\n",
        "plt.show()\n"
      ],
      "metadata": {
        "colab": {
          "base_uri": "https://localhost:8080/",
          "height": 570
        },
        "id": "9yCcOcBJw5XP",
        "outputId": "df2aff8f-add0-44b6-f03b-1e1927b600f2"
      },
      "execution_count": 39,
      "outputs": [
        {
          "output_type": "display_data",
          "data": {
            "text/plain": [
              "<Figure size 1200x800 with 1 Axes>"
            ],
            "image/png": "[encoded data removed]"
          },
          "metadata": {}
        }
      ]
    },
    {
      "cell_type": "markdown",
      "source": [
        "# Insights\n",
        "Universal Pictures comes first with 181 movies produced. This indicates a strong presence and influence in the film industry.\n",
        "\n",
        "Paramount Pictures and Warner Bros. follow closely, with 175 and 163 movies respectively. These companies are also major players in the industry, producing a significant number of films.\n",
        "\n",
        "New Line Cinema and Twentieth Century Fox Film Corporation have produced 130 and 119 movies respectively, showcasing their contributions to the film market.\n",
        "\n",
        "Columbia Pictures has produced 105 movies, indicating its role as a key player in the industry.\n",
        "\n",
        "Metro-Goldwyn-Mayer (MGM), Miramax Films, Touchstone Pictures, and United Artists round out the list, each with a notable number of productions ranging from 61 to 92 movies."
      ],
      "metadata": {
        "id": "Rcre1YAZxBnu"
      }
    },
    {
      "cell_type": "markdown",
      "source": [
        "Which are the most recent top 10 movies produced by Universal Pictures?"
      ],
      "metadata": {
        "id": "11KWdrSex8JD"
      }
    },
    {
      "cell_type": "code",
      "source": [
        "import pandas as pd\n",
        "\n",
        "# Step 1: Convert the 'release_date' column to datetime format\n",
        "movies_with_credits['release_date'] = pd.to_datetime(movies_with_credits['release_date'])\n",
        "\n",
        "# Step 2: Sort the movies by release date in descending order\n",
        "sorted_movies = movies_with_credits.sort_values(by='release_date', ascending=False)\n",
        "\n",
        "# Step 3: Select the top 10 most recent movies\n",
        "top_10_recent_movies = sorted_movies.head(10)\n",
        "\n",
        "# Step 4: Extract the title and year of release\n",
        "top_10_recent_movies['year'] = top_10_recent_movies['release_date'].dt.year\n",
        "top_10_recent_movies = top_10_recent_movies[['title', 'year']]\n",
        "\n",
        "# Display the top 10 most recent movies\n",
        "print(top_10_recent_movies)\n"
      ],
      "metadata": {
        "colab": {
          "base_uri": "https://localhost:8080/"
        },
        "id": "PU5ByFjkxt4V",
        "outputId": "3a3630d0-e768-4b1d-bac8-e45bd98d6927"
      },
      "execution_count": 17,
      "outputs": [
        {
          "output_type": "stream",
          "name": "stdout",
          "text": [
            "                      title  year\n",
            "3408  Two Lovers and a Bear  2016\n",
            "3302             Mr. Church  2016\n",
            "3249                  Kicks  2016\n",
            "4720  The Birth of a Nation  2016\n",
            "4036              Antibirth  2016\n",
            "2273         Hands of Stone  2016\n",
            "3013          Pete's Dragon  2016\n",
            "2305            Indignation  2016\n",
            "2112               Bad Moms  2016\n",
            "2167                  Nerve  2016\n"
          ]
        },
        {
          "output_type": "stream",
          "name": "stderr",
          "text": [
            "<ipython-input-17-88e6fcc73efb>:13: SettingWithCopyWarning: \n",
            "A value is trying to be set on a copy of a slice from a DataFrame.\n",
            "Try using .loc[row_indexer,col_indexer] = value instead\n",
            "\n",
            "See the caveats in the documentation: https://pandas.pydata.org/pandas-docs/stable/user_guide/indexing.html#returning-a-view-versus-a-copy\n",
            "  top_10_recent_movies['year'] = top_10_recent_movies['release_date'].dt.year\n"
          ]
        }
      ]
    },
    {
      "cell_type": "markdown",
      "source": [
        "# Insights\n",
        "The list includes a variety of genres, from drama and biographical films to fantasy and comedy. For example:\n",
        "Two Lovers and a Bear is a romantic drama, Mr. Church is a drama based on a true story and Pete’s Dragon is a fantasy adventure films. This gives many different options to the fans as they have a wide variety to choose from dependig on what they love.\n",
        "\n",
        "All the movies listed were released in 2016, indicating a productive year for the film industry. This could reflect a trend or a particularly strong year for movie releases."
      ],
      "metadata": {
        "id": "LBlj6M4G0i_L"
      }
    },
    {
      "cell_type": "markdown",
      "source": [
        "# Data Preprocessing\n",
        "\n",
        "Data preprocessing involves cleaning, transforming, and organizing raw data into a format that can be effectively used for analysis and model building. Some of the steps include checking for missing values, encoding, feature engineering among others."
      ],
      "metadata": {
        "id": "MDTbR30_GGAM"
      }
    },
    {
      "cell_type": "markdown",
      "source": [
        "**Checking for missing values and handling missing data**"
      ],
      "metadata": {
        "id": "4xcVXFU2GRwK"
      }
    },
    {
      "cell_type": "code",
      "source": [
        "movies_with_credits.isnull().sum()"
      ],
      "metadata": {
        "colab": {
          "base_uri": "https://localhost:8080/",
          "height": 523
        },
        "id": "o6RwPfttGRKg",
        "outputId": "e1167bd2-cac7-4146-f3f7-edc45736247b"
      },
      "execution_count": 26,
      "outputs": [
        {
          "output_type": "execute_result",
          "data": {
            "text/plain": [
              "budget                    0\n",
              "genres                    0\n",
              "id                        0\n",
              "popularity                0\n",
              "production_companies      0\n",
              "release_date              0\n",
              "revenue                   0\n",
              "overview                  0\n",
              "vote_average              0\n",
              "title                     0\n",
              "cast                      0\n",
              "crew                      0\n",
              "release_year              0\n",
              "roi                     655\n",
              "dtype: int64"
            ],
            "text/html": [
              "<div>\n",
              "<style scoped>\n",
              "    .dataframe tbody tr th:only-of-type {\n",
              "        vertical-align: middle;\n",
              "    }\n",
              "\n",
              "    .dataframe tbody tr th {\n",
              "        vertical-align: top;\n",
              "    }\n",
              "\n",
              "    .dataframe thead th {\n",
              "        text-align: right;\n",
              "    }\n",
              "</style>\n",
              "<table border=\"1\" class=\"dataframe\">\n",
              "  <thead>\n",
              "    <tr style=\"text-align: right;\">\n",
              "      <th></th>\n",
              "      <th>0</th>\n",
              "    </tr>\n",
              "  </thead>\n",
              "  <tbody>\n",
              "    <tr>\n",
              "      <th>budget</th>\n",
              "      <td>0</td>\n",
              "    </tr>\n",
              "    <tr>\n",
              "      <th>genres</th>\n",
              "      <td>0</td>\n",
              "    </tr>\n",
              "    <tr>\n",
              "      <th>id</th>\n",
              "      <td>0</td>\n",
              "    </tr>\n",
              "    <tr>\n",
              "      <th>popularity</th>\n",
              "      <td>0</td>\n",
              "    </tr>\n",
              "    <tr>\n",
              "      <th>production_companies</th>\n",
              "      <td>0</td>\n",
              "    </tr>\n",
              "    <tr>\n",
              "      <th>release_date</th>\n",
              "      <td>0</td>\n",
              "    </tr>\n",
              "    <tr>\n",
              "      <th>revenue</th>\n",
              "      <td>0</td>\n",
              "    </tr>\n",
              "    <tr>\n",
              "      <th>overview</th>\n",
              "      <td>0</td>\n",
              "    </tr>\n",
              "    <tr>\n",
              "      <th>vote_average</th>\n",
              "      <td>0</td>\n",
              "    </tr>\n",
              "    <tr>\n",
              "      <th>title</th>\n",
              "      <td>0</td>\n",
              "    </tr>\n",
              "    <tr>\n",
              "      <th>cast</th>\n",
              "      <td>0</td>\n",
              "    </tr>\n",
              "    <tr>\n",
              "      <th>crew</th>\n",
              "      <td>0</td>\n",
              "    </tr>\n",
              "    <tr>\n",
              "      <th>release_year</th>\n",
              "      <td>0</td>\n",
              "    </tr>\n",
              "    <tr>\n",
              "      <th>roi</th>\n",
              "      <td>655</td>\n",
              "    </tr>\n",
              "  </tbody>\n",
              "</table>\n",
              "</div><br><label><b>dtype:</b> int64</label>"
            ]
          },
          "metadata": {},
          "execution_count": 26
        }
      ]
    },
    {
      "cell_type": "code",
      "source": [
        "movies_with_credits.dropna(inplace=True)"
      ],
      "metadata": {
        "id": "KGoaT4WsHnRT"
      },
      "execution_count": 27,
      "outputs": []
    },
    {
      "cell_type": "markdown",
      "source": [
        "**Feature Engineering**\n",
        "\n",
        "This involves creating new features or modifying existing ones to make the data more informative (e.g., extracting year from release_date)."
      ],
      "metadata": {
        "id": "Tx1chhhqIDt_"
      }
    },
    {
      "cell_type": "markdown",
      "source": [
        "1. Ensure all columns have the appropriate data types."
      ],
      "metadata": {
        "id": "J9ygOUEHIkLu"
      }
    },
    {
      "cell_type": "code",
      "source": [
        "# Convert 'release_date' to datetime\n",
        "movies_with_credits['release_date'] = pd.to_datetime(movies_with_credits['release_date'], errors='coerce')\n",
        "\n",
        "# Ensure other columns are in the correct format\n",
        "movies_with_credits['budget'] = pd.to_numeric(movies_with_credits['budget'], errors='coerce')\n",
        "movies_with_credits['revenue'] = pd.to_numeric(movies_with_credits['revenue'], errors='coerce')"
      ],
      "metadata": {
        "id": "UGsm4F4iIXwB"
      },
      "execution_count": 29,
      "outputs": []
    },
    {
      "cell_type": "markdown",
      "source": [
        "2. Feature Extraction"
      ],
      "metadata": {
        "id": "Abjb7159I30y"
      }
    },
    {
      "cell_type": "code",
      "source": [
        "# Extract year from release_date\n",
        "movies_with_credits['release_year'] = movies_with_credits['release_date'].dt.year\n",
        "\n",
        "# Calculate Return on Investment (ROI)\n",
        "movies_with_credits['roi'] = (movies_with_credits['revenue'] - movies_with_credits['budget']) / movies_with_credits['budget']"
      ],
      "metadata": {
        "id": "kJSoj-YsI499"
      },
      "execution_count": 30,
      "outputs": []
    },
    {
      "cell_type": "markdown",
      "source": [
        "# One-Hot Encoding\n",
        "\n",
        "This is a technique used to convert categorical variables into a numerical format that machine learning models can understand. This way, machine learning models can interpret categorical data without assuming any ordinal relationship between categories.\n"
      ],
      "metadata": {
        "id": "mYVRTiUb6vIp"
      }
    },
    {
      "cell_type": "markdown",
      "source": [
        "Explode the lists into separate rows, allowing each element to be treated individually for one-hot encoding."
      ],
      "metadata": {
        "id": "k9jVkrs567iy"
      }
    },
    {
      "cell_type": "code",
      "source": [
        "# Explode the lists into separate rows for one-hot encoding\n",
        "movies_genres = movies.explode('genres')\n",
        "movies_genres['genre_name'] = movies_genres['genres'].apply(lambda x: x['name'] if isinstance(x, dict) else None)\n",
        "\n",
        "movies_companies = movies.explode('production_companies')\n",
        "movies_companies['company_name'] = movies_companies['production_companies'].apply(lambda x: x['name'] if isinstance(x, dict) else None)\n",
        "\n",
        "movies_cast = movies.explode('cast')\n",
        "movies_cast['cast_name'] = movies_cast['cast'].apply(lambda x: x['name'] if isinstance(x, dict) else None)\n",
        "\n",
        "movies_crew = movies.explode('crew')\n",
        "movies_crew['crew_name'] = movies_crew['crew'].apply(lambda x: x['name'] if isinstance(x, dict) else None)"
      ],
      "metadata": {
        "id": "lsixv7nI6upU"
      },
      "execution_count": 31,
      "outputs": []
    },
    {
      "cell_type": "code",
      "source": [
        "# One-hot encode the processed columns\n",
        "genres_encoded = pd.get_dummies(movies_genres['genre_name'], prefix='genre')\n",
        "companies_encoded = pd.get_dummies(movies_companies['company_name'], prefix='company')\n",
        "cast_encoded = pd.get_dummies(movies_cast['cast_name'], prefix='cast')\n",
        "crew_encoded = pd.get_dummies(movies_crew['crew_name'], prefix='crew')"
      ],
      "metadata": {
        "id": "oAlXMxpV7S4I"
      },
      "execution_count": 32,
      "outputs": []
    },
    {
      "cell_type": "code",
      "source": [
        "# Reset the index of the original DataFrame and the encoded DataFrames\n",
        "movies_with_credits = movies.reset_index(drop=True)\n",
        "genres_encoded = genres_encoded.reset_index(drop=True)\n",
        "companies_encoded = companies_encoded.reset_index(drop=True)\n",
        "cast_encoded = cast_encoded.reset_index(drop=True)\n",
        "crew_encoded = crew_encoded.reset_index(drop=True)\n"
      ],
      "metadata": {
        "id": "wCE2Jezu7Txv"
      },
      "execution_count": 33,
      "outputs": []
    },
    {
      "cell_type": "code",
      "source": [
        "# Concatenate genres_encoded first\n",
        "movies_with_credits = pd.concat([movies_with_credits, genres_encoded], axis=1)\n",
        "movies_with_credits = movies_with_credits.drop(['genres'], axis=1, errors='ignore')\n",
        "\n",
        "# Then concatenate companies_encoded\n",
        "movies_with_credits = pd.concat([movies, companies_encoded], axis=1)\n",
        "movies_with_credits = movies_with_credits.drop(['production_companies'], axis=1, errors='ignore')\n",
        "\n",
        "# Continue with cast_encoded and crew_encoded\n",
        "movies_with_credits = pd.concat([movies, cast_encoded], axis=1)\n",
        "movies_with_credits = movies_with_credits.drop(['cast'], axis=1, errors='ignore')\n",
        "\n",
        "movies_with_credits = pd.concat([movies_with_credits, crew_encoded], axis=1)\n",
        "movies_with_credits = movies_with_credits.drop(['crew'], axis=1, errors='ignore')"
      ],
      "metadata": {
        "id": "AjWwHzPGJV3D"
      },
      "execution_count": 34,
      "outputs": []
    },
    {
      "cell_type": "markdown",
      "source": [
        "# Feature Scaling\n",
        "\n",
        "Scaling numeric features is necessary to ensure they are on the same scale."
      ],
      "metadata": {
        "id": "JgI2gn24l7iz"
      }
    },
    {
      "cell_type": "code",
      "source": [
        "import numpy as np\n",
        "from sklearn.preprocessing import StandardScaler\n",
        "\n",
        "# Identify numeric features\n",
        "numeric_features = ['budget', 'revenue', 'popularity','vote_average']\n",
        "\n",
        "# Check for infinite values and replace them with NaN\n",
        "movies_with_credits[numeric_features] = movies_with_credits[numeric_features].replace([np.inf, -np.inf], np.nan)\n",
        "\n",
        "# Optionally, drop rows with NaN values in numeric features\n",
        "movies_with_credits = movies_with_credits.dropna(subset=numeric_features)\n",
        "\n",
        "# Scale the numeric features\n",
        "scaler = StandardScaler()\n",
        "movies_with_credits.loc[:, numeric_features] = scaler.fit_transform(movies_with_credits[numeric_features])\n",
        "\n",
        "# Check the result\n",
        "print(\"Scaling complete. Here's a preview:\")\n",
        "print(movies[numeric_features].head())"
      ],
      "metadata": {
        "colab": {
          "base_uri": "https://localhost:8080/"
        },
        "id": "FjeGauMq724r",
        "outputId": "b95441a6-c7ad-4f7d-fc2f-0c4afd57291b"
      },
      "execution_count": 35,
      "outputs": [
        {
          "output_type": "stream",
          "name": "stdout",
          "text": [
            "Scaling complete. Here's a preview:\n",
            "      budget     revenue  popularity  vote_average\n",
            "0  237000000  2787965087  150.437577           7.2\n",
            "1  300000000   961000000  139.082615           6.9\n",
            "2  245000000   880674609  107.376788           6.3\n",
            "3  250000000  1084939099  112.312950           7.6\n",
            "4  260000000   284139100   43.926995           6.1\n"
          ]
        }
      ]
    },
    {
      "cell_type": "markdown",
      "source": [
        "# MODELLING"
      ],
      "metadata": {
        "id": "JMHkiAUMFyqu"
      }
    },
    {
      "cell_type": "markdown",
      "source": [
        "# Cosine Similarity\n",
        "Cosine similarity is a metric used to measure how similar two vectors are, regardless of their magnitude. It calculates the cosine of the angle between two vectors, and the value ranges from -1 to 1:\n",
        "\n",
        "1 means vectors are identical and point in the same direction.\n",
        "0 means vectors have no similarity.\n",
        "-1 means vectors are diametrically opposed meaning that they are completely dissimilar.\n",
        "\n",
        "In this movie recommender system project, each movie can be represented as a vector in a high-dimensional space, where each dimension could correspond to a feature like genre, cast, production companies, or other numerical values like budget, popularity, etc."
      ],
      "metadata": {
        "id": "bFCtSobweYcn"
      }
    },
    {
      "cell_type": "code",
      "source": [
        "from sklearn.metrics.pairwise import cosine_similarity\n",
        "\n",
        "# Select the final features for similarity calculation (already concatenated and encoded)\n",
        "features_for_similarity = movies_with_credits[['budget', 'popularity', 'revenue', 'vote_average']]\n",
        "\n",
        "# Compute the cosine similarity matrix based on these features\n",
        "cosine_sim_matrix = cosine_similarity(features_for_similarity)\n",
        "\n",
        "# Create a DataFrame to map the movie indices with the similarity scores\n",
        "cosine_sim_df = pd.DataFrame(cosine_sim_matrix, index=movies_with_credits['title'], columns=movies_with_credits['title'])\n",
        "\n",
        "# Preview the similarity scores for a specific movie (example for 'Inception')\n",
        "movie_title = 'Inception'\n",
        "similar_movies = cosine_sim_df[movie_title].sort_values(ascending=False).head(10)\n",
        "\n",
        "print(f\"Movies similar to {movie_title}:\\n\", similar_movies)\n",
        "\n"
      ],
      "metadata": {
        "colab": {
          "base_uri": "https://localhost:8080/"
        },
        "id": "5s7rGsSibW18",
        "outputId": "08a6ccbc-c8ef-402b-bb61-dfe35ecab0c8"
      },
      "execution_count": 36,
      "outputs": [
        {
          "output_type": "stream",
          "name": "stdout",
          "text": [
            "Movies similar to Inception:\n",
            " title\n",
            "Inception                     1.000000\n",
            "The Dark Knight               0.998905\n",
            "Monsters, Inc.                0.998358\n",
            "Iron Man                      0.995548\n",
            "Terminator 2: Judgment Day    0.995290\n",
            "Ant-Man                       0.992427\n",
            "Cinderella                    0.991274\n",
            "Die Hard 2                    0.989719\n",
            "The Revenant                  0.988285\n",
            "Men in Black                  0.988261\n",
            "Name: Inception, dtype: float64\n"
          ]
        }
      ]
    },
    {
      "cell_type": "markdown",
      "source": [
        "# RECOMMENDATION"
      ],
      "metadata": {
        "id": "IbdDDQmFg18A"
      }
    },
    {
      "cell_type": "code",
      "source": [
        "# Create a function to get movie recommendations based on the cosine similarity matrix\n",
        "def get_recommendations(title, cosine_sim_matrix, movies_with_credits):\n",
        "    # Get the index of the movie that matches the title\n",
        "    idx = movies_with_credits.index[movies_with_credits['title'] == title][0]\n",
        "\n",
        "    # Get the pairwise similarity scores of all movies with that movie\n",
        "    sim_scores = list(enumerate(cosine_sim_matrix[idx]))\n",
        "\n",
        "    # Sort the movies based on similarity scores\n",
        "    sim_scores = sorted(sim_scores, key=lambda x: x[1], reverse=True)\n",
        "\n",
        "    # Get the indices of the most similar movies (excluding the first one, which is the same movie)\n",
        "    movie_indices = [i[0] for i in sim_scores[1:11]]  # Top 10 similar movies\n",
        "\n",
        "    # Return the top 10 most similar movies\n",
        "    return movies_with_credits['title'].iloc[movie_indices]\n",
        "\n",
        "# Test the recommendation system\n",
        "print(get_recommendations('The Matrix', cosine_sim_matrix, movies_with_credits))\n"
      ],
      "metadata": {
        "colab": {
          "base_uri": "https://localhost:8080/"
        },
        "id": "XCKAXkhaasjK",
        "outputId": "e95e694f-b29f-46fe-e6ce-996b6d5a0daf"
      },
      "execution_count": 37,
      "outputs": [
        {
          "output_type": "stream",
          "name": "stdout",
          "text": [
            "1557        The Princess Diaries\n",
            "635                    Apollo 13\n",
            "1163             The Conjuring 2\n",
            "1390       Friends with Benefits\n",
            "883          Catch Me If You Can\n",
            "1152             American Hustle\n",
            "1105                        Argo\n",
            "809                 Forrest Gump\n",
            "824     The Pursuit of Happyness\n",
            "631                      Ice Age\n",
            "Name: title, dtype: object\n"
          ]
        }
      ]
    }
  ]
}